{
 "cells": [
  {
   "cell_type": "markdown",
   "metadata": {},
   "source": [
    "### **CHURN PREDICTION WITH PYSPARK**\n",
    "\n",
    "##### **Business Problem:** The objective is to build a machine learning model to predict the customers that will leave the company.\n",
    "\n",
    "##### **Dataset Story:**\n",
    "* Comprises of 10.000 observations and 12 variables.\n",
    "* Independent variables include information on customers.\n",
    "* Dependent variable (exited) indicates the churn situation of the customer, in other words; represents whether the customer left the company (bank) or not. \n",
    "\n",
    "##### **Attributes:**\n",
    "* RowNumber: Number of rows in the dataframe\n",
    "* CustomerId: ID numbers of customers\n",
    "* Surname: Surname of the customer\n",
    "* CreditScore: Credit score of the customer\n",
    "* Geography: Location (country) of the customer\n",
    "* Gender: Gender of the customer \n",
    "* Age: Age of the customer\n",
    "* Tenure: The number of years that the customer has been a client\n",
    "* Balance: The amount of money owed (or due) on customer's account\n",
    "* NumOfProducts: The number of products that a customer has purchased through the bank\n",
    "* HasCrCard: Represents whether a customer has credit card or not\n",
    "* IsActiveMember: Represents whether a customer is an active member or not \n",
    "* EstimatedSalary: Estimated salary of the customer\n",
    "* Exited: Represents whether customer left the company or not."
   ]
  },
  {
   "cell_type": "markdown",
   "metadata": {},
   "source": [
    "<font color = 'black'>\n",
    "Content: \n",
    "\n",
    "1. [Exploratory Data Analysis](#1)\n",
    "1. [Feature Engineering](#2)\n",
    "1. [Data Pre-Processing](#3)\n",
    "    * 3.1 [Label Encoding](#4)\n",
    "    * 3.2 [One Hot Encoding](#5)\n",
    "    * 3.3 [Define Variables](#6)\n",
    "    * 3.4 [Standard Scaler](#7)\n",
    "    * 3.5 [Train-Test Split](#8)\n",
    "1. [Modeling](#9)\n",
    "    * 4.1 [Gradient Boosted Tree Classifier](#10)\n",
    "    * 4.2 [Model Tuning](#11)\n",
    "1. [References](#12)"
   ]
  },
  {
   "cell_type": "code",
   "execution_count": 1,
   "metadata": {},
   "outputs": [
    {
     "name": "stdout",
     "output_type": "stream",
     "text": [
      "Requirement already satisfied: pyspark in c:\\users\\pinar\\anaconda3\\envs\\untitled2\\lib\\site-packages (3.2.0)\n",
      "Requirement already satisfied: py4j==0.10.9.2 in c:\\users\\pinar\\anaconda3\\envs\\untitled2\\lib\\site-packages (from pyspark) (0.10.9.2)\n"
     ]
    }
   ],
   "source": [
    "!pip install pyspark"
   ]
  },
  {
   "cell_type": "code",
   "execution_count": 2,
   "metadata": {},
   "outputs": [
    {
     "name": "stdout",
     "output_type": "stream",
     "text": [
      "Requirement already satisfied: findspark in c:\\users\\pinar\\anaconda3\\envs\\untitled2\\lib\\site-packages (1.4.2)\n"
     ]
    }
   ],
   "source": [
    "!pip install findspark"
   ]
  },
  {
   "cell_type": "code",
   "execution_count": 3,
   "metadata": {},
   "outputs": [
    {
     "name": "stdout",
     "output_type": "stream",
     "text": [
      "Requirement already satisfied: PyArrow in c:\\users\\pinar\\anaconda3\\envs\\untitled2\\lib\\site-packages (6.0.0)\n",
      "Requirement already satisfied: numpy>=1.16.6 in c:\\users\\pinar\\anaconda3\\envs\\untitled2\\lib\\site-packages (from PyArrow) (1.19.5)\n"
     ]
    }
   ],
   "source": [
    "!pip install PyArrow"
   ]
  },
  {
   "cell_type": "code",
   "execution_count": 4,
   "metadata": {},
   "outputs": [],
   "source": [
    "import warnings\n",
    "import findspark\n",
    "import pandas as pd\n",
    "import numpy as np\n",
    "import seaborn as sns\n",
    "from pyspark.ml.classification import GBTClassifier, LogisticRegression\n",
    "from pyspark.ml.evaluation import BinaryClassificationEvaluator\n",
    "from pyspark.ml.feature import StringIndexer, VectorAssembler, OneHotEncoder, StandardScaler\n",
    "from pyspark.ml.tuning import ParamGridBuilder, CrossValidator\n",
    "from pyspark import SparkContext\n",
    "from pyspark.sql import SparkSession\n",
    "from pyspark.ml.feature import Bucketizer\n",
    "\n",
    "warnings.filterwarnings(\"ignore\", category=DeprecationWarning)\n",
    "warnings.filterwarnings(\"ignore\", category=FutureWarning)\n",
    "\n",
    "pd.set_option('display.max_columns', None)\n",
    "pd.set_option('display.float_format', lambda x: '%.2f' % x)"
   ]
  },
  {
   "cell_type": "code",
   "execution_count": 5,
   "metadata": {},
   "outputs": [],
   "source": [
    "findspark.init(\"C:\\spark\")"
   ]
  },
  {
   "cell_type": "code",
   "execution_count": 6,
   "metadata": {},
   "outputs": [],
   "source": [
    "spark = SparkSession.builder \\\n",
    "    .master(\"local\") \\\n",
    "    .appName(\"pyspark_giris\") \\\n",
    "    .getOrCreate()"
   ]
  },
  {
   "cell_type": "code",
   "execution_count": 7,
   "metadata": {},
   "outputs": [],
   "source": [
    "sc = spark.sparkContext"
   ]
  },
  {
   "cell_type": "code",
   "execution_count": 8,
   "metadata": {},
   "outputs": [],
   "source": [
    "# Load data\n",
    "spark_df = spark.read.csv(\"C:\\Career\\VBO DSMLBootcamp-6\\Ders_notlari\\HAFTA_10\\datasets\\churn2.csv\", \n",
    "                          header=True, inferSchema=True)"
   ]
  },
  {
   "cell_type": "markdown",
   "metadata": {},
   "source": [
    "<a id = \"1\"></a><br>\n",
    "#### 1. EXPLORATORY DATA ANALYSIS"
   ]
  },
  {
   "cell_type": "code",
   "execution_count": 9,
   "metadata": {},
   "outputs": [
    {
     "data": {
      "text/plain": [
       "DataFrame[RowNumber: int, CustomerId: int, Surname: string, CreditScore: int, Geography: string, Gender: string, Age: int, Tenure: int, Balance: double, NumOfProducts: int, HasCrCard: int, IsActiveMember: int, EstimatedSalary: double, Exited: int]"
      ]
     },
     "execution_count": 9,
     "metadata": {},
     "output_type": "execute_result"
    }
   ],
   "source": [
    "spark_df"
   ]
  },
  {
   "cell_type": "code",
   "execution_count": 10,
   "metadata": {},
   "outputs": [
    {
     "data": {
      "text/plain": [
       "pyspark.sql.dataframe.DataFrame"
      ]
     },
     "execution_count": 10,
     "metadata": {},
     "output_type": "execute_result"
    }
   ],
   "source": [
    "type(spark_df)"
   ]
  },
  {
   "cell_type": "code",
   "execution_count": 11,
   "metadata": {},
   "outputs": [
    {
     "data": {
      "text/plain": [
       "[Row(RowNumber=1, CustomerId=15634602, Surname='Hargrave', CreditScore=619, Geography='France', Gender='Female', Age=42, Tenure=2, Balance=0.0, NumOfProducts=1, HasCrCard=1, IsActiveMember=1, EstimatedSalary=101348.88, Exited=1),\n",
       " Row(RowNumber=2, CustomerId=15647311, Surname='Hill', CreditScore=608, Geography='Spain', Gender='Female', Age=41, Tenure=1, Balance=83807.86, NumOfProducts=1, HasCrCard=0, IsActiveMember=1, EstimatedSalary=112542.58, Exited=0),\n",
       " Row(RowNumber=3, CustomerId=15619304, Surname='Onio', CreditScore=502, Geography='France', Gender='Female', Age=42, Tenure=8, Balance=159660.8, NumOfProducts=3, HasCrCard=1, IsActiveMember=0, EstimatedSalary=113931.57, Exited=1)]"
      ]
     },
     "execution_count": 11,
     "metadata": {},
     "output_type": "execute_result"
    }
   ],
   "source": [
    "spark_df.head(3)"
   ]
  },
  {
   "cell_type": "code",
   "execution_count": 12,
   "metadata": {},
   "outputs": [
    {
     "data": {
      "text/plain": [
       "[Row(RowNumber=9998, CustomerId=15584532, Surname='Liu', CreditScore=709, Geography='France', Gender='Female', Age=36, Tenure=7, Balance=0.0, NumOfProducts=1, HasCrCard=0, IsActiveMember=1, EstimatedSalary=42085.58, Exited=1),\n",
       " Row(RowNumber=9999, CustomerId=15682355, Surname='Sabbatini', CreditScore=772, Geography='Germany', Gender='Male', Age=42, Tenure=3, Balance=75075.31, NumOfProducts=2, HasCrCard=1, IsActiveMember=0, EstimatedSalary=92888.52, Exited=1),\n",
       " Row(RowNumber=10000, CustomerId=15628319, Surname='Walker', CreditScore=792, Geography='France', Gender='Female', Age=28, Tenure=4, Balance=130142.79, NumOfProducts=1, HasCrCard=1, IsActiveMember=0, EstimatedSalary=38190.78, Exited=0)]"
      ]
     },
     "execution_count": 12,
     "metadata": {},
     "output_type": "execute_result"
    }
   ],
   "source": [
    "spark_df.tail(3)"
   ]
  },
  {
   "cell_type": "code",
   "execution_count": 13,
   "metadata": {},
   "outputs": [
    {
     "name": "stdout",
     "output_type": "stream",
     "text": [
      "Shape:  (10000, 14)\n"
     ]
    }
   ],
   "source": [
    "# Number of observations and features\n",
    "print(\"Shape: \", (spark_df.count(), len(spark_df.columns)))"
   ]
  },
  {
   "cell_type": "code",
   "execution_count": 14,
   "metadata": {},
   "outputs": [
    {
     "name": "stdout",
     "output_type": "stream",
     "text": [
      "root\n",
      " |-- RowNumber: integer (nullable = true)\n",
      " |-- CustomerId: integer (nullable = true)\n",
      " |-- Surname: string (nullable = true)\n",
      " |-- CreditScore: integer (nullable = true)\n",
      " |-- Geography: string (nullable = true)\n",
      " |-- Gender: string (nullable = true)\n",
      " |-- Age: integer (nullable = true)\n",
      " |-- Tenure: integer (nullable = true)\n",
      " |-- Balance: double (nullable = true)\n",
      " |-- NumOfProducts: integer (nullable = true)\n",
      " |-- HasCrCard: integer (nullable = true)\n",
      " |-- IsActiveMember: integer (nullable = true)\n",
      " |-- EstimatedSalary: double (nullable = true)\n",
      " |-- Exited: integer (nullable = true)\n",
      "\n"
     ]
    }
   ],
   "source": [
    "# Data types\n",
    "spark_df.printSchema()"
   ]
  },
  {
   "cell_type": "code",
   "execution_count": 15,
   "metadata": {},
   "outputs": [
    {
     "data": {
      "text/plain": [
       "[('RowNumber', 'int'),\n",
       " ('CustomerId', 'int'),\n",
       " ('Surname', 'string'),\n",
       " ('CreditScore', 'int'),\n",
       " ('Geography', 'string'),\n",
       " ('Gender', 'string'),\n",
       " ('Age', 'int'),\n",
       " ('Tenure', 'int'),\n",
       " ('Balance', 'double'),\n",
       " ('NumOfProducts', 'int'),\n",
       " ('HasCrCard', 'int'),\n",
       " ('IsActiveMember', 'int'),\n",
       " ('EstimatedSalary', 'double'),\n",
       " ('Exited', 'int')]"
      ]
     },
     "execution_count": 15,
     "metadata": {},
     "output_type": "execute_result"
    }
   ],
   "source": [
    "# A different representation\n",
    "spark_df.dtypes"
   ]
  },
  {
   "cell_type": "code",
   "execution_count": 16,
   "metadata": {},
   "outputs": [
    {
     "name": "stdout",
     "output_type": "stream",
     "text": [
      "+---+\n",
      "|Age|\n",
      "+---+\n",
      "| 42|\n",
      "| 41|\n",
      "| 42|\n",
      "| 39|\n",
      "| 43|\n",
      "| 44|\n",
      "| 50|\n",
      "| 29|\n",
      "| 44|\n",
      "| 27|\n",
      "+---+\n",
      "only showing top 10 rows\n",
      "\n"
     ]
    }
   ],
   "source": [
    "# To observe a feature\n",
    "spark_df.select(spark_df.Age).show(10)"
   ]
  },
  {
   "cell_type": "code",
   "execution_count": 17,
   "metadata": {},
   "outputs": [
    {
     "name": "stdout",
     "output_type": "stream",
     "text": [
      "+---------+----------+--------+-----------+---------+------+---+------+--------+-------------+---------+--------------+---------------+------+\n",
      "|RowNumber|CustomerId| Surname|CreditScore|Geography|Gender|Age|Tenure| Balance|NumOfProducts|HasCrCard|IsActiveMember|EstimatedSalary|Exited|\n",
      "+---------+----------+--------+-----------+---------+------+---+------+--------+-------------+---------+--------------+---------------+------+\n",
      "|        1|  15634602|Hargrave|        619|   France|Female| 42|     2|     0.0|            1|        1|             1|      101348.88|     1|\n",
      "|        2|  15647311|    Hill|        608|    Spain|Female| 41|     1|83807.86|            1|        0|             1|      112542.58|     0|\n",
      "|        3|  15619304|    Onio|        502|   France|Female| 42|     8|159660.8|            3|        1|             0|      113931.57|     1|\n",
      "+---------+----------+--------+-----------+---------+------+---+------+--------+-------------+---------+--------------+---------------+------+\n",
      "only showing top 3 rows\n",
      "\n"
     ]
    }
   ],
   "source": [
    "# Different ways of seeing head\n",
    "spark_df.show(3, truncate=True)"
   ]
  },
  {
   "cell_type": "code",
   "execution_count": 18,
   "metadata": {},
   "outputs": [
    {
     "data": {
      "text/plain": [
       "[Row(RowNumber=1, CustomerId=15634602, Surname='Hargrave', CreditScore=619, Geography='France', Gender='Female', Age=42, Tenure=2, Balance=0.0, NumOfProducts=1, HasCrCard=1, IsActiveMember=1, EstimatedSalary=101348.88, Exited=1),\n",
       " Row(RowNumber=2, CustomerId=15647311, Surname='Hill', CreditScore=608, Geography='Spain', Gender='Female', Age=41, Tenure=1, Balance=83807.86, NumOfProducts=1, HasCrCard=0, IsActiveMember=1, EstimatedSalary=112542.58, Exited=0),\n",
       " Row(RowNumber=3, CustomerId=15619304, Surname='Onio', CreditScore=502, Geography='France', Gender='Female', Age=42, Tenure=8, Balance=159660.8, NumOfProducts=3, HasCrCard=1, IsActiveMember=0, EstimatedSalary=113931.57, Exited=1),\n",
       " Row(RowNumber=4, CustomerId=15701354, Surname='Boni', CreditScore=699, Geography='France', Gender='Female', Age=39, Tenure=1, Balance=0.0, NumOfProducts=2, HasCrCard=0, IsActiveMember=0, EstimatedSalary=93826.63, Exited=0),\n",
       " Row(RowNumber=5, CustomerId=15737888, Surname='Mitchell', CreditScore=850, Geography='Spain', Gender='Female', Age=43, Tenure=2, Balance=125510.82, NumOfProducts=1, HasCrCard=1, IsActiveMember=1, EstimatedSalary=79084.1, Exited=0)]"
      ]
     },
     "execution_count": 18,
     "metadata": {},
     "output_type": "execute_result"
    }
   ],
   "source": [
    "# Different ways of seeing head\n",
    "spark_df.take(5)"
   ]
  },
  {
   "cell_type": "code",
   "execution_count": 19,
   "metadata": {},
   "outputs": [
    {
     "name": "stdout",
     "output_type": "stream",
     "text": [
      "+---------+----------+--------+-----------+---------+------+---+------+---------+-------------+---------+--------------+---------------+------+\n",
      "|rownumber|customerid| surname|creditscore|geography|gender|age|tenure|  balance|numofproducts|hascrcard|isactivemember|estimatedsalary|exited|\n",
      "+---------+----------+--------+-----------+---------+------+---+------+---------+-------------+---------+--------------+---------------+------+\n",
      "|        1|  15634602|Hargrave|        619|   France|Female| 42|     2|      0.0|            1|        1|             1|      101348.88|     1|\n",
      "|        2|  15647311|    Hill|        608|    Spain|Female| 41|     1| 83807.86|            1|        0|             1|      112542.58|     0|\n",
      "|        3|  15619304|    Onio|        502|   France|Female| 42|     8| 159660.8|            3|        1|             0|      113931.57|     1|\n",
      "|        4|  15701354|    Boni|        699|   France|Female| 39|     1|      0.0|            2|        0|             0|       93826.63|     0|\n",
      "|        5|  15737888|Mitchell|        850|    Spain|Female| 43|     2|125510.82|            1|        1|             1|        79084.1|     0|\n",
      "+---------+----------+--------+-----------+---------+------+---+------+---------+-------------+---------+--------------+---------------+------+\n",
      "only showing top 5 rows\n",
      "\n"
     ]
    }
   ],
   "source": [
    "# Lowering the names of the features\n",
    "spark_df = spark_df.toDF(*[c.lower() for c in spark_df.columns])\n",
    "spark_df.show(5)"
   ]
  },
  {
   "cell_type": "code",
   "execution_count": 20,
   "metadata": {},
   "outputs": [
    {
     "name": "stdout",
     "output_type": "stream",
     "text": [
      "+-------+------------------+-----------------+-------+-----------------+---------+------+------------------+------------------+-----------------+------------------+-------------------+-------------------+-----------------+-------------------+\n",
      "|summary|         rownumber|       customerid|surname|      creditscore|geography|gender|               age|            tenure|          balance|     numofproducts|          hascrcard|     isactivemember|  estimatedsalary|             exited|\n",
      "+-------+------------------+-----------------+-------+-----------------+---------+------+------------------+------------------+-----------------+------------------+-------------------+-------------------+-----------------+-------------------+\n",
      "|  count|             10000|            10000|  10000|            10000|    10000| 10000|             10000|             10000|            10000|             10000|              10000|              10000|            10000|              10000|\n",
      "|   mean|            5000.5|  1.56909405694E7|   null|         650.5288|     null|  null|           38.9218|            5.0128|76485.88928799961|            1.5302|             0.7055|             0.5151|100090.2398809998|             0.2037|\n",
      "| stddev|2886.8956799071675|71936.18612274907|   null|96.65329873613035|     null|  null|10.487806451704587|2.8921743770496837|62397.40520238599|0.5816543579989917|0.45584046447513327|0.49979692845891815|57510.49281769821|0.40276858399486065|\n",
      "|    min|                 1|         15565701|  Abazu|              350|   France|Female|                18|                 0|              0.0|                 1|                  0|                  0|            11.58|                  0|\n",
      "|    max|             10000|         15815690| Zuyeva|              850|    Spain|  Male|                92|                10|        250898.09|                 4|                  1|                  1|        199992.48|                  1|\n",
      "+-------+------------------+-----------------+-------+-----------------+---------+------+------------------+------------------+-----------------+------------------+-------------------+-------------------+-----------------+-------------------+\n",
      "\n"
     ]
    }
   ],
   "source": [
    "# Descriptive statistics summary\n",
    "spark_df.describe().show()"
   ]
  },
  {
   "cell_type": "code",
   "execution_count": 21,
   "metadata": {},
   "outputs": [
    {
     "name": "stdout",
     "output_type": "stream",
     "text": [
      "+-------+------------------+-------------------+\n",
      "|summary|               age|             exited|\n",
      "+-------+------------------+-------------------+\n",
      "|  count|             10000|              10000|\n",
      "|   mean|           38.9218|             0.2037|\n",
      "| stddev|10.487806451704587|0.40276858399486065|\n",
      "|    min|                18|                  0|\n",
      "|    max|                92|                  1|\n",
      "+-------+------------------+-------------------+\n",
      "\n"
     ]
    }
   ],
   "source": [
    "# Descriptive statistics for age and churn\n",
    "spark_df.describe([\"age\", \"exited\"]).show()"
   ]
  },
  {
   "cell_type": "code",
   "execution_count": 22,
   "metadata": {},
   "outputs": [
    {
     "data": {
      "text/plain": [
       "rownumber          10000\n",
       "customerid         10000\n",
       "surname             2932\n",
       "creditscore          460\n",
       "geography              3\n",
       "gender                 2\n",
       "age                   70\n",
       "tenure                11\n",
       "balance             6382\n",
       "numofproducts          4\n",
       "hascrcard              2\n",
       "isactivemember         2\n",
       "estimatedsalary     9999\n",
       "exited                 2\n",
       "dtype: int64"
      ]
     },
     "execution_count": 22,
     "metadata": {},
     "output_type": "execute_result"
    }
   ],
   "source": [
    "# Observing the number of unique values of each feature\n",
    "spark_df.toPandas().nunique()"
   ]
  },
  {
   "cell_type": "code",
   "execution_count": 23,
   "metadata": {},
   "outputs": [
    {
     "data": {
      "text/html": [
       "<div>\n",
       "<style scoped>\n",
       "    .dataframe tbody tr th:only-of-type {\n",
       "        vertical-align: middle;\n",
       "    }\n",
       "\n",
       "    .dataframe tbody tr th {\n",
       "        vertical-align: top;\n",
       "    }\n",
       "\n",
       "    .dataframe thead th {\n",
       "        text-align: right;\n",
       "    }\n",
       "</style>\n",
       "<table border=\"1\" class=\"dataframe\">\n",
       "  <thead>\n",
       "    <tr style=\"text-align: right;\">\n",
       "      <th></th>\n",
       "      <th>0</th>\n",
       "      <th>1</th>\n",
       "      <th>2</th>\n",
       "      <th>3</th>\n",
       "      <th>4</th>\n",
       "    </tr>\n",
       "  </thead>\n",
       "  <tbody>\n",
       "    <tr>\n",
       "      <th>summary</th>\n",
       "      <td>count</td>\n",
       "      <td>mean</td>\n",
       "      <td>stddev</td>\n",
       "      <td>min</td>\n",
       "      <td>max</td>\n",
       "    </tr>\n",
       "    <tr>\n",
       "      <th>rownumber</th>\n",
       "      <td>10000</td>\n",
       "      <td>5000.5</td>\n",
       "      <td>2886.8956799071675</td>\n",
       "      <td>1</td>\n",
       "      <td>10000</td>\n",
       "    </tr>\n",
       "    <tr>\n",
       "      <th>customerid</th>\n",
       "      <td>10000</td>\n",
       "      <td>1.56909405694E7</td>\n",
       "      <td>71936.18612274907</td>\n",
       "      <td>15565701</td>\n",
       "      <td>15815690</td>\n",
       "    </tr>\n",
       "    <tr>\n",
       "      <th>creditscore</th>\n",
       "      <td>10000</td>\n",
       "      <td>650.5288</td>\n",
       "      <td>96.65329873613035</td>\n",
       "      <td>350</td>\n",
       "      <td>850</td>\n",
       "    </tr>\n",
       "    <tr>\n",
       "      <th>age</th>\n",
       "      <td>10000</td>\n",
       "      <td>38.9218</td>\n",
       "      <td>10.487806451704587</td>\n",
       "      <td>18</td>\n",
       "      <td>92</td>\n",
       "    </tr>\n",
       "    <tr>\n",
       "      <th>tenure</th>\n",
       "      <td>10000</td>\n",
       "      <td>5.0128</td>\n",
       "      <td>2.8921743770496837</td>\n",
       "      <td>0</td>\n",
       "      <td>10</td>\n",
       "    </tr>\n",
       "    <tr>\n",
       "      <th>balance</th>\n",
       "      <td>10000</td>\n",
       "      <td>76485.88928799961</td>\n",
       "      <td>62397.40520238599</td>\n",
       "      <td>0.0</td>\n",
       "      <td>250898.09</td>\n",
       "    </tr>\n",
       "    <tr>\n",
       "      <th>numofproducts</th>\n",
       "      <td>10000</td>\n",
       "      <td>1.5302</td>\n",
       "      <td>0.5816543579989917</td>\n",
       "      <td>1</td>\n",
       "      <td>4</td>\n",
       "    </tr>\n",
       "    <tr>\n",
       "      <th>hascrcard</th>\n",
       "      <td>10000</td>\n",
       "      <td>0.7055</td>\n",
       "      <td>0.45584046447513327</td>\n",
       "      <td>0</td>\n",
       "      <td>1</td>\n",
       "    </tr>\n",
       "    <tr>\n",
       "      <th>isactivemember</th>\n",
       "      <td>10000</td>\n",
       "      <td>0.5151</td>\n",
       "      <td>0.49979692845891815</td>\n",
       "      <td>0</td>\n",
       "      <td>1</td>\n",
       "    </tr>\n",
       "    <tr>\n",
       "      <th>estimatedsalary</th>\n",
       "      <td>10000</td>\n",
       "      <td>100090.2398809998</td>\n",
       "      <td>57510.49281769821</td>\n",
       "      <td>11.58</td>\n",
       "      <td>199992.48</td>\n",
       "    </tr>\n",
       "    <tr>\n",
       "      <th>exited</th>\n",
       "      <td>10000</td>\n",
       "      <td>0.2037</td>\n",
       "      <td>0.40276858399486065</td>\n",
       "      <td>0</td>\n",
       "      <td>1</td>\n",
       "    </tr>\n",
       "  </tbody>\n",
       "</table>\n",
       "</div>"
      ],
      "text/plain": [
       "                     0                  1                    2         3  \\\n",
       "summary          count               mean               stddev       min   \n",
       "rownumber        10000             5000.5   2886.8956799071675         1   \n",
       "customerid       10000    1.56909405694E7    71936.18612274907  15565701   \n",
       "creditscore      10000           650.5288    96.65329873613035       350   \n",
       "age              10000            38.9218   10.487806451704587        18   \n",
       "tenure           10000             5.0128   2.8921743770496837         0   \n",
       "balance          10000  76485.88928799961    62397.40520238599       0.0   \n",
       "numofproducts    10000             1.5302   0.5816543579989917         1   \n",
       "hascrcard        10000             0.7055  0.45584046447513327         0   \n",
       "isactivemember   10000             0.5151  0.49979692845891815         0   \n",
       "estimatedsalary  10000  100090.2398809998    57510.49281769821     11.58   \n",
       "exited           10000             0.2037  0.40276858399486065         0   \n",
       "\n",
       "                         4  \n",
       "summary                max  \n",
       "rownumber            10000  \n",
       "customerid        15815690  \n",
       "creditscore            850  \n",
       "age                     92  \n",
       "tenure                  10  \n",
       "balance          250898.09  \n",
       "numofproducts            4  \n",
       "hascrcard                1  \n",
       "isactivemember           1  \n",
       "estimatedsalary  199992.48  \n",
       "exited                   1  "
      ]
     },
     "execution_count": 23,
     "metadata": {},
     "output_type": "execute_result"
    }
   ],
   "source": [
    "# Selecting all numerical columns and observing their descriptive statistics\n",
    "num_cols = [col[0] for col in spark_df.dtypes if col[1] != 'string']\n",
    "spark_df.select(num_cols).describe().toPandas().transpose()"
   ]
  },
  {
   "cell_type": "code",
   "execution_count": 24,
   "metadata": {},
   "outputs": [
    {
     "name": "stdout",
     "output_type": "stream",
     "text": [
      "+-----------+\n",
      "|    surname|\n",
      "+-----------+\n",
      "|      Tyler|\n",
      "|    Palermo|\n",
      "|     Piccio|\n",
      "|   Lazareva|\n",
      "| Kambinachi|\n",
      "|      Virgo|\n",
      "|Baryshnikov|\n",
      "|    Wofford|\n",
      "|     Lavrov|\n",
      "|  Bezrukova|\n",
      "+-----------+\n",
      "only showing top 10 rows\n",
      "\n",
      "+---------+\n",
      "|geography|\n",
      "+---------+\n",
      "|  Germany|\n",
      "|   France|\n",
      "|    Spain|\n",
      "+---------+\n",
      "\n",
      "+------+\n",
      "|gender|\n",
      "+------+\n",
      "|Female|\n",
      "|  Male|\n",
      "+------+\n",
      "\n"
     ]
    }
   ],
   "source": [
    "# Selecting all categorical columns and observing them\n",
    "cat_cols = [col[0] for col in spark_df.dtypes if col[1] == 'string']\n",
    "\n",
    "for col in cat_cols:\n",
    "    spark_df.select(col).distinct().show(10)"
   ]
  },
  {
   "cell_type": "code",
   "execution_count": 25,
   "metadata": {},
   "outputs": [
    {
     "name": "stdout",
     "output_type": "stream",
     "text": [
      "+------+-----------------+\n",
      "|exited|   avg(rownumber)|\n",
      "+------+-----------------+\n",
      "|     1|4905.917525773196|\n",
      "|     0|5024.694964209469|\n",
      "+------+-----------------+\n",
      "\n",
      "+------+--------------------+\n",
      "|exited|     avg(customerid)|\n",
      "+------+--------------------+\n",
      "|     1|1.5690051964653904E7|\n",
      "|     0|1.5691167881702876E7|\n",
      "+------+--------------------+\n",
      "\n",
      "+------+-----------------+\n",
      "|exited| avg(creditscore)|\n",
      "+------+-----------------+\n",
      "|     1|645.3514972999509|\n",
      "|     0|651.8531960316463|\n",
      "+------+-----------------+\n",
      "\n",
      "+------+-----------------+\n",
      "|exited|         avg(age)|\n",
      "+------+-----------------+\n",
      "|     1| 44.8379970544919|\n",
      "|     0|37.40838879819164|\n",
      "+------+-----------------+\n",
      "\n",
      "+------+-----------------+\n",
      "|exited|      avg(tenure)|\n",
      "+------+-----------------+\n",
      "|     1|4.932744231713304|\n",
      "|     0|5.033278914981791|\n",
      "+------+-----------------+\n",
      "\n",
      "+------+-----------------+\n",
      "|exited|     avg(balance)|\n",
      "+------+-----------------+\n",
      "|     1|91108.53933726063|\n",
      "|     0|72745.29677885193|\n",
      "+------+-----------------+\n",
      "\n",
      "+------+------------------+\n",
      "|exited|avg(numofproducts)|\n",
      "+------+------------------+\n",
      "|     1|1.4752086401570939|\n",
      "|     0|1.5442672359663443|\n",
      "+------+------------------+\n",
      "\n",
      "+------+------------------+\n",
      "|exited|    avg(hascrcard)|\n",
      "+------+------------------+\n",
      "|     1|0.6990672557682867|\n",
      "|     0|0.7071455481602411|\n",
      "+------+------------------+\n",
      "\n",
      "+------+-------------------+\n",
      "|exited|avg(isactivemember)|\n",
      "+------+-------------------+\n",
      "|     1|0.36082474226804123|\n",
      "|     0| 0.5545648624890117|\n",
      "+------+-------------------+\n",
      "\n",
      "+------+--------------------+\n",
      "|exited|avg(estimatedsalary)|\n",
      "+------+--------------------+\n",
      "|     1|   101465.6775306824|\n",
      "|     0|   99738.39177194514|\n",
      "+------+--------------------+\n",
      "\n",
      "+------+-----------+\n",
      "|exited|avg(exited)|\n",
      "+------+-----------+\n",
      "|     1|        1.0|\n",
      "|     0|        0.0|\n",
      "+------+-----------+\n",
      "\n"
     ]
    }
   ],
   "source": [
    "# Observing the mean values of \"exited\" per numerical column\n",
    "for col in [col.lower() for col in num_cols]:\n",
    "    spark_df.groupby(\"exited\").agg({col: \"mean\"}).show()"
   ]
  },
  {
   "cell_type": "code",
   "execution_count": 26,
   "metadata": {},
   "outputs": [
    {
     "name": "stdout",
     "output_type": "stream",
     "text": [
      "+------+-----+\n",
      "|exited|count|\n",
      "+------+-----+\n",
      "|     1| 2037|\n",
      "|     0| 7963|\n",
      "+------+-----+\n",
      "\n"
     ]
    }
   ],
   "source": [
    "# Observe the target feature\n",
    "spark_df.groupby(\"exited\").count().show()"
   ]
  },
  {
   "cell_type": "markdown",
   "metadata": {},
   "source": [
    "<a id = \"2\"></a><br>\n",
    "#### 2. FEATURE ENGINEERING"
   ]
  },
  {
   "cell_type": "code",
   "execution_count": 27,
   "metadata": {
    "scrolled": true
   },
   "outputs": [
    {
     "data": {
      "text/html": [
       "<div>\n",
       "<style scoped>\n",
       "    .dataframe tbody tr th:only-of-type {\n",
       "        vertical-align: middle;\n",
       "    }\n",
       "\n",
       "    .dataframe tbody tr th {\n",
       "        vertical-align: top;\n",
       "    }\n",
       "\n",
       "    .dataframe thead th {\n",
       "        text-align: right;\n",
       "    }\n",
       "</style>\n",
       "<table border=\"1\" class=\"dataframe\">\n",
       "  <thead>\n",
       "    <tr style=\"text-align: right;\">\n",
       "      <th></th>\n",
       "      <th>0</th>\n",
       "    </tr>\n",
       "  </thead>\n",
       "  <tbody>\n",
       "    <tr>\n",
       "      <th>rownumber</th>\n",
       "      <td>0</td>\n",
       "    </tr>\n",
       "    <tr>\n",
       "      <th>customerid</th>\n",
       "      <td>0</td>\n",
       "    </tr>\n",
       "    <tr>\n",
       "      <th>surname</th>\n",
       "      <td>0</td>\n",
       "    </tr>\n",
       "    <tr>\n",
       "      <th>creditscore</th>\n",
       "      <td>0</td>\n",
       "    </tr>\n",
       "    <tr>\n",
       "      <th>geography</th>\n",
       "      <td>0</td>\n",
       "    </tr>\n",
       "    <tr>\n",
       "      <th>gender</th>\n",
       "      <td>0</td>\n",
       "    </tr>\n",
       "    <tr>\n",
       "      <th>age</th>\n",
       "      <td>0</td>\n",
       "    </tr>\n",
       "    <tr>\n",
       "      <th>tenure</th>\n",
       "      <td>0</td>\n",
       "    </tr>\n",
       "    <tr>\n",
       "      <th>balance</th>\n",
       "      <td>0</td>\n",
       "    </tr>\n",
       "    <tr>\n",
       "      <th>numofproducts</th>\n",
       "      <td>0</td>\n",
       "    </tr>\n",
       "    <tr>\n",
       "      <th>hascrcard</th>\n",
       "      <td>0</td>\n",
       "    </tr>\n",
       "    <tr>\n",
       "      <th>isactivemember</th>\n",
       "      <td>0</td>\n",
       "    </tr>\n",
       "    <tr>\n",
       "      <th>estimatedsalary</th>\n",
       "      <td>0</td>\n",
       "    </tr>\n",
       "    <tr>\n",
       "      <th>exited</th>\n",
       "      <td>0</td>\n",
       "    </tr>\n",
       "  </tbody>\n",
       "</table>\n",
       "</div>"
      ],
      "text/plain": [
       "                 0\n",
       "rownumber        0\n",
       "customerid       0\n",
       "surname          0\n",
       "creditscore      0\n",
       "geography        0\n",
       "gender           0\n",
       "age              0\n",
       "tenure           0\n",
       "balance          0\n",
       "numofproducts    0\n",
       "hascrcard        0\n",
       "isactivemember   0\n",
       "estimatedsalary  0\n",
       "exited           0"
      ]
     },
     "execution_count": 27,
     "metadata": {},
     "output_type": "execute_result"
    }
   ],
   "source": [
    "# Missing values\n",
    "from pyspark.sql.functions import when, count, col\n",
    "spark_df.select([count(when(col(c).isNull(), c)).alias(c) for c in spark_df.columns]).toPandas().T"
   ]
  },
  {
   "cell_type": "code",
   "execution_count": 28,
   "metadata": {},
   "outputs": [],
   "source": [
    "#FEATURE ENGINEERING\n",
    "\n",
    "spark_df = spark_df.withColumn('new_balance_salary_ratio', spark_df.balance / spark_df.estimatedsalary)\n",
    "spark_df = spark_df.withColumn('new_tenure_by_age', spark_df.tenure / spark_df.age)\n",
    "spark_df = spark_df.withColumn('new_creditscore_age', spark_df.creditscore / spark_df.age)\n",
    "spark_df = spark_df.withColumn('new_age_salary', spark_df.age * spark_df.estimatedsalary)"
   ]
  },
  {
   "cell_type": "code",
   "execution_count": 29,
   "metadata": {},
   "outputs": [
    {
     "name": "stdout",
     "output_type": "stream",
     "text": [
      "+---------+----------+--------+-----------+---------+------+---+------+--------+-------------+---------+--------------+---------------+------+------------------------+--------------------+-------------------+--------------+\n",
      "|rownumber|customerid| surname|creditscore|geography|gender|age|tenure| balance|numofproducts|hascrcard|isactivemember|estimatedsalary|exited|new_balance_salary_ratio|   new_tenure_by_age|new_creditscore_age|new_age_salary|\n",
      "+---------+----------+--------+-----------+---------+------+---+------+--------+-------------+---------+--------------+---------------+------+------------------------+--------------------+-------------------+--------------+\n",
      "|        1|  15634602|Hargrave|        619|   France|Female| 42|     2|     0.0|            1|        1|             1|      101348.88|     1|                     0.0|0.047619047619047616| 14.738095238095237|    4256652.96|\n",
      "|        2|  15647311|    Hill|        608|    Spain|Female| 41|     1|83807.86|            1|        0|             1|      112542.58|     0|      0.7446769036217226|0.024390243902439025| 14.829268292682928|    4614245.78|\n",
      "|        3|  15619304|    Onio|        502|   France|Female| 42|     8|159660.8|            3|        1|             0|      113931.57|     1|      1.4013745268322026| 0.19047619047619047| 11.952380952380953|    4785125.94|\n",
      "+---------+----------+--------+-----------+---------+------+---+------+--------+-------------+---------+--------------+---------------+------+------------------------+--------------------+-------------------+--------------+\n",
      "only showing top 3 rows\n",
      "\n"
     ]
    }
   ],
   "source": [
    "spark_df.show(3)"
   ]
  },
  {
   "cell_type": "code",
   "execution_count": 30,
   "metadata": {},
   "outputs": [
    {
     "data": {
      "text/html": [
       "<div>\n",
       "<style scoped>\n",
       "    .dataframe tbody tr th:only-of-type {\n",
       "        vertical-align: middle;\n",
       "    }\n",
       "\n",
       "    .dataframe tbody tr th {\n",
       "        vertical-align: top;\n",
       "    }\n",
       "\n",
       "    .dataframe thead th {\n",
       "        text-align: right;\n",
       "    }\n",
       "</style>\n",
       "<table border=\"1\" class=\"dataframe\">\n",
       "  <thead>\n",
       "    <tr style=\"text-align: right;\">\n",
       "      <th></th>\n",
       "      <th>0</th>\n",
       "    </tr>\n",
       "  </thead>\n",
       "  <tbody>\n",
       "    <tr>\n",
       "      <th>rownumber</th>\n",
       "      <td>0</td>\n",
       "    </tr>\n",
       "    <tr>\n",
       "      <th>customerid</th>\n",
       "      <td>0</td>\n",
       "    </tr>\n",
       "    <tr>\n",
       "      <th>surname</th>\n",
       "      <td>0</td>\n",
       "    </tr>\n",
       "    <tr>\n",
       "      <th>creditscore</th>\n",
       "      <td>0</td>\n",
       "    </tr>\n",
       "    <tr>\n",
       "      <th>geography</th>\n",
       "      <td>0</td>\n",
       "    </tr>\n",
       "    <tr>\n",
       "      <th>gender</th>\n",
       "      <td>0</td>\n",
       "    </tr>\n",
       "    <tr>\n",
       "      <th>age</th>\n",
       "      <td>0</td>\n",
       "    </tr>\n",
       "    <tr>\n",
       "      <th>tenure</th>\n",
       "      <td>0</td>\n",
       "    </tr>\n",
       "    <tr>\n",
       "      <th>balance</th>\n",
       "      <td>0</td>\n",
       "    </tr>\n",
       "    <tr>\n",
       "      <th>numofproducts</th>\n",
       "      <td>0</td>\n",
       "    </tr>\n",
       "    <tr>\n",
       "      <th>hascrcard</th>\n",
       "      <td>0</td>\n",
       "    </tr>\n",
       "    <tr>\n",
       "      <th>isactivemember</th>\n",
       "      <td>0</td>\n",
       "    </tr>\n",
       "    <tr>\n",
       "      <th>estimatedsalary</th>\n",
       "      <td>0</td>\n",
       "    </tr>\n",
       "    <tr>\n",
       "      <th>exited</th>\n",
       "      <td>0</td>\n",
       "    </tr>\n",
       "    <tr>\n",
       "      <th>new_balance_salary_ratio</th>\n",
       "      <td>0</td>\n",
       "    </tr>\n",
       "    <tr>\n",
       "      <th>new_tenure_by_age</th>\n",
       "      <td>0</td>\n",
       "    </tr>\n",
       "    <tr>\n",
       "      <th>new_creditscore_age</th>\n",
       "      <td>0</td>\n",
       "    </tr>\n",
       "    <tr>\n",
       "      <th>new_age_salary</th>\n",
       "      <td>0</td>\n",
       "    </tr>\n",
       "  </tbody>\n",
       "</table>\n",
       "</div>"
      ],
      "text/plain": [
       "                          0\n",
       "rownumber                 0\n",
       "customerid                0\n",
       "surname                   0\n",
       "creditscore               0\n",
       "geography                 0\n",
       "gender                    0\n",
       "age                       0\n",
       "tenure                    0\n",
       "balance                   0\n",
       "numofproducts             0\n",
       "hascrcard                 0\n",
       "isactivemember            0\n",
       "estimatedsalary           0\n",
       "exited                    0\n",
       "new_balance_salary_ratio  0\n",
       "new_tenure_by_age         0\n",
       "new_creditscore_age       0\n",
       "new_age_salary            0"
      ]
     },
     "execution_count": 30,
     "metadata": {},
     "output_type": "execute_result"
    }
   ],
   "source": [
    "# Re-check missing values\n",
    "spark_df.select([count(when(col(c).isNull(), c)).alias(c) for c in spark_df.columns]).toPandas().T"
   ]
  },
  {
   "cell_type": "markdown",
   "metadata": {},
   "source": [
    "#### Bucketization (Binning)"
   ]
  },
  {
   "cell_type": "code",
   "execution_count": 31,
   "metadata": {},
   "outputs": [
    {
     "data": {
      "text/html": [
       "<div>\n",
       "<style scoped>\n",
       "    .dataframe tbody tr th:only-of-type {\n",
       "        vertical-align: middle;\n",
       "    }\n",
       "\n",
       "    .dataframe tbody tr th {\n",
       "        vertical-align: top;\n",
       "    }\n",
       "\n",
       "    .dataframe thead th {\n",
       "        text-align: right;\n",
       "    }\n",
       "</style>\n",
       "<table border=\"1\" class=\"dataframe\">\n",
       "  <thead>\n",
       "    <tr style=\"text-align: right;\">\n",
       "      <th></th>\n",
       "      <th>0</th>\n",
       "      <th>1</th>\n",
       "      <th>2</th>\n",
       "      <th>3</th>\n",
       "      <th>4</th>\n",
       "    </tr>\n",
       "  </thead>\n",
       "  <tbody>\n",
       "    <tr>\n",
       "      <th>summary</th>\n",
       "      <td>count</td>\n",
       "      <td>mean</td>\n",
       "      <td>stddev</td>\n",
       "      <td>min</td>\n",
       "      <td>max</td>\n",
       "    </tr>\n",
       "    <tr>\n",
       "      <th>age</th>\n",
       "      <td>10000</td>\n",
       "      <td>38.9218</td>\n",
       "      <td>10.487806451704587</td>\n",
       "      <td>18</td>\n",
       "      <td>92</td>\n",
       "    </tr>\n",
       "  </tbody>\n",
       "</table>\n",
       "</div>"
      ],
      "text/plain": [
       "             0        1                   2    3    4\n",
       "summary  count     mean              stddev  min  max\n",
       "age      10000  38.9218  10.487806451704587   18   92"
      ]
     },
     "execution_count": 31,
     "metadata": {},
     "output_type": "execute_result"
    }
   ],
   "source": [
    "spark_df.select('age').describe().toPandas().transpose()"
   ]
  },
  {
   "cell_type": "code",
   "execution_count": 32,
   "metadata": {},
   "outputs": [
    {
     "name": "stdout",
     "output_type": "stream",
     "text": [
      "+-------+-----+\n",
      "|summary|  age|\n",
      "+-------+-----+\n",
      "|  count|10000|\n",
      "|    min|   18|\n",
      "|    25%|   32|\n",
      "|    50%|   37|\n",
      "|    75%|   44|\n",
      "|    max|   92|\n",
      "+-------+-----+\n",
      "\n"
     ]
    }
   ],
   "source": [
    "spark_df.select(\"age\").summary(\"count\", \"min\", \"25%\", \"50%\",\"75%\", \"max\").show()"
   ]
  },
  {
   "cell_type": "code",
   "execution_count": 33,
   "metadata": {},
   "outputs": [],
   "source": [
    "bucketizer = Bucketizer(splits=[0, 30, 40, 45, 65, 92], inputCol=\"age\", outputCol=\"new_age_cat\")\n",
    "\n",
    "spark_df = bucketizer.setHandleInvalid(\"keep\").transform(spark_df)"
   ]
  },
  {
   "cell_type": "code",
   "execution_count": 34,
   "metadata": {},
   "outputs": [],
   "source": [
    "# There are zero values, that's why we are adding 1 \n",
    "spark_df = spark_df.withColumn('new_age_cat', spark_df.new_age_cat + 1)"
   ]
  },
  {
   "cell_type": "code",
   "execution_count": 36,
   "metadata": {},
   "outputs": [
    {
     "name": "stdout",
     "output_type": "stream",
     "text": [
      "+---------+----------+--------+-----------+---------+------+---+------+--------+-------------+---------+--------------+---------------+------+------------------------+--------------------+-------------------+--------------+-----------+\n",
      "|rownumber|customerid| surname|creditscore|geography|gender|age|tenure| balance|numofproducts|hascrcard|isactivemember|estimatedsalary|exited|new_balance_salary_ratio|   new_tenure_by_age|new_creditscore_age|new_age_salary|new_age_cat|\n",
      "+---------+----------+--------+-----------+---------+------+---+------+--------+-------------+---------+--------------+---------------+------+------------------------+--------------------+-------------------+--------------+-----------+\n",
      "|        1|  15634602|Hargrave|        619|   France|Female| 42|     2|     0.0|            1|        1|             1|      101348.88|     1|                     0.0|0.047619047619047616| 14.738095238095237|    4256652.96|        3.0|\n",
      "|        2|  15647311|    Hill|        608|    Spain|Female| 41|     1|83807.86|            1|        0|             1|      112542.58|     0|      0.7446769036217226|0.024390243902439025| 14.829268292682928|    4614245.78|        3.0|\n",
      "|        3|  15619304|    Onio|        502|   France|Female| 42|     8|159660.8|            3|        1|             0|      113931.57|     1|      1.4013745268322026| 0.19047619047619047| 11.952380952380953|    4785125.94|        3.0|\n",
      "+---------+----------+--------+-----------+---------+------+---+------+--------+-------------+---------+--------------+---------------+------+------------------------+--------------------+-------------------+--------------+-----------+\n",
      "only showing top 3 rows\n",
      "\n"
     ]
    }
   ],
   "source": [
    "spark_df.show(3)"
   ]
  },
  {
   "cell_type": "code",
   "execution_count": 37,
   "metadata": {},
   "outputs": [
    {
     "name": "stdout",
     "output_type": "stream",
     "text": [
      "+-----------+-----+\n",
      "|new_age_cat|count|\n",
      "+-----------+-----+\n",
      "|        1.0| 1641|\n",
      "|        4.0| 2058|\n",
      "|        3.0| 1673|\n",
      "|        2.0| 4346|\n",
      "|        5.0|  282|\n",
      "+-----------+-----+\n",
      "\n"
     ]
    }
   ],
   "source": [
    "# Observe new_age_cat \n",
    "spark_df.groupby(\"new_age_cat\").count().show()"
   ]
  },
  {
   "cell_type": "code",
   "execution_count": 38,
   "metadata": {},
   "outputs": [
    {
     "name": "stdout",
     "output_type": "stream",
     "text": [
      "+-----------+-------------------+\n",
      "|new_age_cat|        avg(exited)|\n",
      "+-----------+-------------------+\n",
      "|          1|0.07556368068251067|\n",
      "|          3| 0.2367005379557681|\n",
      "|          5| 0.1524822695035461|\n",
      "|          4|0.48639455782312924|\n",
      "|          2|0.10883571099861943|\n",
      "+-----------+-------------------+\n",
      "\n"
     ]
    }
   ],
   "source": [
    "# Observe the churn status of new_age_cat\n",
    "spark_df = spark_df.withColumn(\"new_age_cat\", spark_df[\"new_age_cat\"].cast(\"integer\"))\n",
    "spark_df.groupby(\"new_age_cat\").agg({'exited': \"mean\"}).show()"
   ]
  },
  {
   "cell_type": "markdown",
   "metadata": {},
   "source": [
    "##### As seen, exited (churn) ratio is higher in 3 and 4."
   ]
  },
  {
   "cell_type": "code",
   "execution_count": 39,
   "metadata": {},
   "outputs": [
    {
     "name": "stdout",
     "output_type": "stream",
     "text": [
      "+---------+-------------------+\n",
      "|geography|        avg(exited)|\n",
      "+---------+-------------------+\n",
      "|  Germany|0.32443204463929853|\n",
      "|   France|0.16154766653370561|\n",
      "|    Spain| 0.1667339523617279|\n",
      "+---------+-------------------+\n",
      "\n"
     ]
    }
   ],
   "source": [
    "# Observe churn status per geography\n",
    "spark_df.groupby(\"geography\").agg({'exited': \"mean\"}).show()"
   ]
  },
  {
   "cell_type": "code",
   "execution_count": 42,
   "metadata": {},
   "outputs": [],
   "source": [
    "# FEATURE ENGINEERING WITH WHEN \n",
    "# tenure \n",
    "spark_df = spark_df.withColumn('segment', \n",
    "                               when(spark_df['tenure'] < 5, \"segment_b\").\n",
    "                               otherwise(\"segment_a\"))"
   ]
  },
  {
   "cell_type": "code",
   "execution_count": 43,
   "metadata": {},
   "outputs": [
    {
     "name": "stdout",
     "output_type": "stream",
     "text": [
      "+---------+-----+\n",
      "|  segment|count|\n",
      "+---------+-----+\n",
      "|segment_a| 5506|\n",
      "|segment_b| 4494|\n",
      "+---------+-----+\n",
      "\n"
     ]
    }
   ],
   "source": [
    "spark_df.groupby(\"segment\").count().show()"
   ]
  },
  {
   "cell_type": "code",
   "execution_count": 59,
   "metadata": {},
   "outputs": [
    {
     "name": "stdout",
     "output_type": "stream",
     "text": [
      "+---------+-------------------+\n",
      "|  segment|        avg(exited)|\n",
      "+---------+-------------------+\n",
      "|segment_a|0.19851071558300037|\n",
      "|segment_b|  0.210057854917668|\n",
      "+---------+-------------------+\n",
      "\n"
     ]
    }
   ],
   "source": [
    "spark_df.groupby(\"segment\").agg({'exited': \"mean\"}).show()"
   ]
  },
  {
   "cell_type": "code",
   "execution_count": 44,
   "metadata": {},
   "outputs": [],
   "source": [
    "# age categories\n",
    "spark_df = spark_df.withColumn('new_age_cat_2',\n",
    "                    when(spark_df['age'] < 46, \"young\").\n",
    "                    when((45 < spark_df['age']) & (spark_df['age'] < 65), \"mature\").\n",
    "                    otherwise(\"senior\"))"
   ]
  },
  {
   "cell_type": "code",
   "execution_count": 45,
   "metadata": {},
   "outputs": [
    {
     "name": "stdout",
     "output_type": "stream",
     "text": [
      "+-------------+-----+\n",
      "|new_age_cat_2|count|\n",
      "+-------------+-----+\n",
      "|       mature| 1829|\n",
      "|       senior|  282|\n",
      "|        young| 7889|\n",
      "+-------------+-----+\n",
      "\n"
     ]
    }
   ],
   "source": [
    "spark_df.groupby(\"new_age_cat_2\").count().show()"
   ]
  },
  {
   "cell_type": "code",
   "execution_count": 60,
   "metadata": {},
   "outputs": [
    {
     "name": "stdout",
     "output_type": "stream",
     "text": [
      "+-------------+------------------+\n",
      "|new_age_cat_2|       avg(exited)|\n",
      "+-------------+------------------+\n",
      "|       mature|0.4997266265718972|\n",
      "|       senior|0.1524822695035461|\n",
      "|        young|  0.13689948028901|\n",
      "+-------------+------------------+\n",
      "\n"
     ]
    }
   ],
   "source": [
    "spark_df.groupby(\"new_age_cat_2\").agg({'exited': \"mean\"}).show()"
   ]
  },
  {
   "cell_type": "code",
   "execution_count": 46,
   "metadata": {},
   "outputs": [],
   "source": [
    "# employment status\n",
    "# This is an assumption. I assume that if the estimated salary is lower than the minimum wage then \n",
    "# this can mean that the person is unemployed.\n",
    "\n",
    "spark_df = spark_df.withColumn('employment_status', \n",
    "                               when(spark_df['estimatedsalary'] < 1000, \"unemployed\").\n",
    "                               otherwise(\"employed\"))"
   ]
  },
  {
   "cell_type": "code",
   "execution_count": 47,
   "metadata": {},
   "outputs": [
    {
     "name": "stdout",
     "output_type": "stream",
     "text": [
      "+-----------------+-----+\n",
      "|employment_status|count|\n",
      "+-----------------+-----+\n",
      "|       unemployed|   59|\n",
      "|         employed| 9941|\n",
      "+-----------------+-----+\n",
      "\n"
     ]
    }
   ],
   "source": [
    "spark_df.groupby(\"employment_status\").count().show()"
   ]
  },
  {
   "cell_type": "code",
   "execution_count": 61,
   "metadata": {},
   "outputs": [
    {
     "name": "stdout",
     "output_type": "stream",
     "text": [
      "+-----------------+-------------------+\n",
      "|employment_status|        avg(exited)|\n",
      "+-----------------+-------------------+\n",
      "|       unemployed|0.22033898305084745|\n",
      "|         employed| 0.2036012473594206|\n",
      "+-----------------+-------------------+\n",
      "\n"
     ]
    }
   ],
   "source": [
    "spark_df.groupby(\"employment_status\").agg({'exited': \"mean\"}).show()"
   ]
  },
  {
   "cell_type": "code",
   "execution_count": 48,
   "metadata": {},
   "outputs": [
    {
     "name": "stdout",
     "output_type": "stream",
     "text": [
      "+-------+---------+\n",
      "|summary|  balance|\n",
      "+-------+---------+\n",
      "|  count|    10000|\n",
      "|    min|      0.0|\n",
      "|    25%|      0.0|\n",
      "|    50%| 97157.96|\n",
      "|    75%|127638.35|\n",
      "|    max|250898.09|\n",
      "+-------+---------+\n",
      "\n"
     ]
    }
   ],
   "source": [
    "spark_df.select(\"balance\").summary(\"count\", \"min\", \"25%\", \"50%\",\"75%\", \"max\").show()"
   ]
  },
  {
   "cell_type": "code",
   "execution_count": 49,
   "metadata": {},
   "outputs": [],
   "source": [
    "# balance status\n",
    "spark_df = spark_df.withColumn('balance_status', \n",
    "                               when(spark_df['balance'] < 100000, \"low_balance\").\n",
    "                               otherwise(\"high_balance\"))"
   ]
  },
  {
   "cell_type": "code",
   "execution_count": 50,
   "metadata": {},
   "outputs": [
    {
     "name": "stdout",
     "output_type": "stream",
     "text": [
      "+--------------+-----+\n",
      "|balance_status|count|\n",
      "+--------------+-----+\n",
      "|  high_balance| 4799|\n",
      "|   low_balance| 5201|\n",
      "+--------------+-----+\n",
      "\n"
     ]
    }
   ],
   "source": [
    "spark_df.groupby(\"balance_status\").count().show()"
   ]
  },
  {
   "cell_type": "code",
   "execution_count": 62,
   "metadata": {},
   "outputs": [
    {
     "name": "stdout",
     "output_type": "stream",
     "text": [
      "+--------------+-------------------+\n",
      "|balance_status|        avg(exited)|\n",
      "+--------------+-------------------+\n",
      "|  high_balance|0.25234423838299647|\n",
      "|   low_balance|0.15881561238223418|\n",
      "+--------------+-------------------+\n",
      "\n"
     ]
    }
   ],
   "source": [
    "spark_df.groupby(\"balance_status\").agg({'exited': \"mean\"}).show()"
   ]
  },
  {
   "cell_type": "code",
   "execution_count": 51,
   "metadata": {},
   "outputs": [
    {
     "name": "stdout",
     "output_type": "stream",
     "text": [
      "+---------+----------+--------+-----------+---------+------+---+------+--------+-------------+---------+--------------+---------------+------+------------------------+--------------------+-------------------+--------------+-----------+---------+-------------+-----------------+--------------+\n",
      "|rownumber|customerid| surname|creditscore|geography|gender|age|tenure| balance|numofproducts|hascrcard|isactivemember|estimatedsalary|exited|new_balance_salary_ratio|   new_tenure_by_age|new_creditscore_age|new_age_salary|new_age_cat|  segment|new_age_cat_2|employment_status|balance_status|\n",
      "+---------+----------+--------+-----------+---------+------+---+------+--------+-------------+---------+--------------+---------------+------+------------------------+--------------------+-------------------+--------------+-----------+---------+-------------+-----------------+--------------+\n",
      "|        1|  15634602|Hargrave|        619|   France|Female| 42|     2|     0.0|            1|        1|             1|      101348.88|     1|                     0.0|0.047619047619047616| 14.738095238095237|    4256652.96|          3|segment_b|        young|         employed|   low_balance|\n",
      "|        2|  15647311|    Hill|        608|    Spain|Female| 41|     1|83807.86|            1|        0|             1|      112542.58|     0|      0.7446769036217226|0.024390243902439025| 14.829268292682928|    4614245.78|          3|segment_b|        young|         employed|   low_balance|\n",
      "|        3|  15619304|    Onio|        502|   France|Female| 42|     8|159660.8|            3|        1|             0|      113931.57|     1|      1.4013745268322026| 0.19047619047619047| 11.952380952380953|    4785125.94|          3|segment_a|        young|         employed|  high_balance|\n",
      "+---------+----------+--------+-----------+---------+------+---+------+--------+-------------+---------+--------------+---------------+------+------------------------+--------------------+-------------------+--------------+-----------+---------+-------------+-----------------+--------------+\n",
      "only showing top 3 rows\n",
      "\n"
     ]
    }
   ],
   "source": [
    "# Final version of the dataframe\n",
    "spark_df.show(3)"
   ]
  },
  {
   "cell_type": "markdown",
   "metadata": {},
   "source": [
    "<a id = \"3\"></a><br>\n",
    "#### 3. DATA PRE-PROCESSING "
   ]
  },
  {
   "cell_type": "code",
   "execution_count": 52,
   "metadata": {},
   "outputs": [],
   "source": [
    "# Remove 'rownumber', \"customerid\" and \"surname\" as we will not use them in modeling section \n",
    "spark_df = spark_df.drop('rownumber', \"customerid\", \"surname\")"
   ]
  },
  {
   "cell_type": "code",
   "execution_count": 53,
   "metadata": {},
   "outputs": [
    {
     "name": "stdout",
     "output_type": "stream",
     "text": [
      "+-----------+---------+------+---+------+--------+-------------+---------+--------------+---------------+------+------------------------+--------------------+-------------------+--------------+-----------+---------+-------------+-----------------+--------------+\n",
      "|creditscore|geography|gender|age|tenure| balance|numofproducts|hascrcard|isactivemember|estimatedsalary|exited|new_balance_salary_ratio|   new_tenure_by_age|new_creditscore_age|new_age_salary|new_age_cat|  segment|new_age_cat_2|employment_status|balance_status|\n",
      "+-----------+---------+------+---+------+--------+-------------+---------+--------------+---------------+------+------------------------+--------------------+-------------------+--------------+-----------+---------+-------------+-----------------+--------------+\n",
      "|        619|   France|Female| 42|     2|     0.0|            1|        1|             1|      101348.88|     1|                     0.0|0.047619047619047616| 14.738095238095237|    4256652.96|          3|segment_b|        young|         employed|   low_balance|\n",
      "|        608|    Spain|Female| 41|     1|83807.86|            1|        0|             1|      112542.58|     0|      0.7446769036217226|0.024390243902439025| 14.829268292682928|    4614245.78|          3|segment_b|        young|         employed|   low_balance|\n",
      "|        502|   France|Female| 42|     8|159660.8|            3|        1|             0|      113931.57|     1|      1.4013745268322026| 0.19047619047619047| 11.952380952380953|    4785125.94|          3|segment_a|        young|         employed|  high_balance|\n",
      "+-----------+---------+------+---+------+--------+-------------+---------+--------------+---------------+------+------------------------+--------------------+-------------------+--------------+-----------+---------+-------------+-----------------+--------------+\n",
      "only showing top 3 rows\n",
      "\n"
     ]
    }
   ],
   "source": [
    "spark_df.show(3)"
   ]
  },
  {
   "cell_type": "markdown",
   "metadata": {},
   "source": [
    "<a id = \"4\"></a><br>\n",
    "#### 3.1. Label Encoding"
   ]
  },
  {
   "cell_type": "markdown",
   "metadata": {},
   "source": [
    "For categorical variables StringIndexer should be used first. Using one hot encoder directly does not work.   "
   ]
  },
  {
   "cell_type": "code",
   "execution_count": 82,
   "metadata": {},
   "outputs": [
    {
     "name": "stdout",
     "output_type": "stream",
     "text": [
      "+-----------+---------+------+---+------+--------+-------------+---------+--------------+---------------+------+------------------------+--------------------+-------------------+--------------+-----------+---------+-------------+-----------------+--------------+\n",
      "|creditscore|geography|gender|age|tenure| balance|numofproducts|hascrcard|isactivemember|estimatedsalary|exited|new_balance_salary_ratio|   new_tenure_by_age|new_creditscore_age|new_age_salary|new_age_cat|  segment|new_age_cat_2|employment_status|balance_status|\n",
      "+-----------+---------+------+---+------+--------+-------------+---------+--------------+---------------+------+------------------------+--------------------+-------------------+--------------+-----------+---------+-------------+-----------------+--------------+\n",
      "|        619|   France|Female| 42|     2|     0.0|            1|        1|             1|      101348.88|     1|                     0.0|0.047619047619047616| 14.738095238095237|    4256652.96|          3|segment_b|        young|         employed|   low_balance|\n",
      "|        608|    Spain|Female| 41|     1|83807.86|            1|        0|             1|      112542.58|     0|      0.7446769036217226|0.024390243902439025| 14.829268292682928|    4614245.78|          3|segment_b|        young|         employed|   low_balance|\n",
      "|        502|   France|Female| 42|     8|159660.8|            3|        1|             0|      113931.57|     1|      1.4013745268322026| 0.19047619047619047| 11.952380952380953|    4785125.94|          3|segment_a|        young|         employed|  high_balance|\n",
      "+-----------+---------+------+---+------+--------+-------------+---------+--------------+---------------+------+------------------------+--------------------+-------------------+--------------+-----------+---------+-------------+-----------------+--------------+\n",
      "only showing top 3 rows\n",
      "\n"
     ]
    }
   ],
   "source": [
    "# Let's observe the final spark dataframe before encoding\n",
    "spark_df.show(3)"
   ]
  },
  {
   "cell_type": "code",
   "execution_count": 57,
   "metadata": {},
   "outputs": [],
   "source": [
    "# Let's observe the categorical columns after feature engineering\n",
    "cat_cols2 = [col[0] for col in spark_df.dtypes if col[1] == 'string']"
   ]
  },
  {
   "cell_type": "code",
   "execution_count": 73,
   "metadata": {},
   "outputs": [
    {
     "data": {
      "text/plain": [
       "['geography',\n",
       " 'gender',\n",
       " 'segment',\n",
       " 'new_age_cat_2',\n",
       " 'employment_status',\n",
       " 'balance_status']"
      ]
     },
     "execution_count": 73,
     "metadata": {},
     "output_type": "execute_result"
    }
   ],
   "source": [
    "cat_cols2"
   ]
  },
  {
   "cell_type": "code",
   "execution_count": 83,
   "metadata": {},
   "outputs": [
    {
     "name": "stdout",
     "output_type": "stream",
     "text": [
      "+-----------+---------+------+---+------+--------+-------------+---------+--------------+---------------+------+------------------------+--------------------+-------------------+--------------+-----------+---------+-------------+-----------------+--------------+---------------+\n",
      "|creditscore|geography|gender|age|tenure| balance|numofproducts|hascrcard|isactivemember|estimatedsalary|exited|new_balance_salary_ratio|   new_tenure_by_age|new_creditscore_age|new_age_salary|new_age_cat|  segment|new_age_cat_2|employment_status|balance_status|geography_label|\n",
      "+-----------+---------+------+---+------+--------+-------------+---------+--------------+---------------+------+------------------------+--------------------+-------------------+--------------+-----------+---------+-------------+-----------------+--------------+---------------+\n",
      "|        619|   France|Female| 42|     2|     0.0|            1|        1|             1|      101348.88|     1|                     0.0|0.047619047619047616| 14.738095238095237|    4256652.96|          3|segment_b|        young|         employed|   low_balance|              0|\n",
      "|        608|    Spain|Female| 41|     1|83807.86|            1|        0|             1|      112542.58|     0|      0.7446769036217226|0.024390243902439025| 14.829268292682928|    4614245.78|          3|segment_b|        young|         employed|   low_balance|              2|\n",
      "+-----------+---------+------+---+------+--------+-------------+---------+--------------+---------------+------+------------------------+--------------------+-------------------+--------------+-----------+---------+-------------+-----------------+--------------+---------------+\n",
      "only showing top 2 rows\n",
      "\n"
     ]
    }
   ],
   "source": [
    "# Label encoding for geography\n",
    "indexer = StringIndexer(inputCol=\"geography\", outputCol=\"geography_label\")\n",
    "temp_sdf = indexer.fit(spark_df).transform(spark_df)\n",
    "spark_df = temp_sdf.withColumn(\"geography_label\", temp_sdf[\"geography_label\"].cast(\"integer\"))\n",
    "spark_df.show(2)"
   ]
  },
  {
   "cell_type": "code",
   "execution_count": 84,
   "metadata": {},
   "outputs": [],
   "source": [
    "# As we have geography_label now, we can drop geography column\n",
    "spark_df = spark_df.drop('geography')"
   ]
  },
  {
   "cell_type": "code",
   "execution_count": 85,
   "metadata": {},
   "outputs": [
    {
     "name": "stdout",
     "output_type": "stream",
     "text": [
      "+-----------+------+---+------+--------+-------------+---------+--------------+---------------+------+------------------------+--------------------+-------------------+--------------+-----------+---------+-------------+-----------------+--------------+---------------+------------+\n",
      "|creditscore|gender|age|tenure| balance|numofproducts|hascrcard|isactivemember|estimatedsalary|exited|new_balance_salary_ratio|   new_tenure_by_age|new_creditscore_age|new_age_salary|new_age_cat|  segment|new_age_cat_2|employment_status|balance_status|geography_label|gender_label|\n",
      "+-----------+------+---+------+--------+-------------+---------+--------------+---------------+------+------------------------+--------------------+-------------------+--------------+-----------+---------+-------------+-----------------+--------------+---------------+------------+\n",
      "|        619|Female| 42|     2|     0.0|            1|        1|             1|      101348.88|     1|                     0.0|0.047619047619047616| 14.738095238095237|    4256652.96|          3|segment_b|        young|         employed|   low_balance|              0|           1|\n",
      "|        608|Female| 41|     1|83807.86|            1|        0|             1|      112542.58|     0|      0.7446769036217226|0.024390243902439025| 14.829268292682928|    4614245.78|          3|segment_b|        young|         employed|   low_balance|              2|           1|\n",
      "+-----------+------+---+------+--------+-------------+---------+--------------+---------------+------+------------------------+--------------------+-------------------+--------------+-----------+---------+-------------+-----------------+--------------+---------------+------------+\n",
      "only showing top 2 rows\n",
      "\n"
     ]
    }
   ],
   "source": [
    "# Label encoding for gender\n",
    "indexer = StringIndexer(inputCol=\"gender\", outputCol=\"gender_label\")\n",
    "temp_sdf = indexer.fit(spark_df).transform(spark_df)\n",
    "spark_df = temp_sdf.withColumn(\"gender_label\", temp_sdf[\"gender_label\"].cast(\"integer\"))\n",
    "spark_df.show(2)"
   ]
  },
  {
   "cell_type": "code",
   "execution_count": 86,
   "metadata": {},
   "outputs": [],
   "source": [
    "# As we have gender_label now, we can drop gender column\n",
    "spark_df = spark_df.drop('gender')"
   ]
  },
  {
   "cell_type": "code",
   "execution_count": 87,
   "metadata": {},
   "outputs": [
    {
     "name": "stdout",
     "output_type": "stream",
     "text": [
      "+-----------+---+------+--------+-------------+---------+--------------+---------------+------+------------------------+--------------------+-------------------+--------------+-----------+-------------+-----------------+--------------+---------------+------------+-------------+\n",
      "|creditscore|age|tenure| balance|numofproducts|hascrcard|isactivemember|estimatedsalary|exited|new_balance_salary_ratio|   new_tenure_by_age|new_creditscore_age|new_age_salary|new_age_cat|new_age_cat_2|employment_status|balance_status|geography_label|gender_label|segment_label|\n",
      "+-----------+---+------+--------+-------------+---------+--------------+---------------+------+------------------------+--------------------+-------------------+--------------+-----------+-------------+-----------------+--------------+---------------+------------+-------------+\n",
      "|        619| 42|     2|     0.0|            1|        1|             1|      101348.88|     1|                     0.0|0.047619047619047616| 14.738095238095237|    4256652.96|          3|        young|         employed|   low_balance|              0|           1|            1|\n",
      "|        608| 41|     1|83807.86|            1|        0|             1|      112542.58|     0|      0.7446769036217226|0.024390243902439025| 14.829268292682928|    4614245.78|          3|        young|         employed|   low_balance|              2|           1|            1|\n",
      "+-----------+---+------+--------+-------------+---------+--------------+---------------+------+------------------------+--------------------+-------------------+--------------+-----------+-------------+-----------------+--------------+---------------+------------+-------------+\n",
      "only showing top 2 rows\n",
      "\n"
     ]
    }
   ],
   "source": [
    "# Label encoding for segment\n",
    "indexer = StringIndexer(inputCol=\"segment\", outputCol=\"segment_label\")\n",
    "temp_sdf = indexer.fit(spark_df).transform(spark_df)\n",
    "spark_df = temp_sdf.withColumn(\"segment_label\", temp_sdf[\"segment_label\"].cast(\"integer\"))\n",
    "spark_df = spark_df.drop('segment')\n",
    "spark_df.show(2)"
   ]
  },
  {
   "cell_type": "code",
   "execution_count": 88,
   "metadata": {},
   "outputs": [
    {
     "name": "stdout",
     "output_type": "stream",
     "text": [
      "+-----------+---+------+--------+-------------+---------+--------------+---------------+------+------------------------+--------------------+-------------------+--------------+-----------+-----------------+--------------+---------------+------------+-------------+-------------------+\n",
      "|creditscore|age|tenure| balance|numofproducts|hascrcard|isactivemember|estimatedsalary|exited|new_balance_salary_ratio|   new_tenure_by_age|new_creditscore_age|new_age_salary|new_age_cat|employment_status|balance_status|geography_label|gender_label|segment_label|new_age_cat_2_label|\n",
      "+-----------+---+------+--------+-------------+---------+--------------+---------------+------+------------------------+--------------------+-------------------+--------------+-----------+-----------------+--------------+---------------+------------+-------------+-------------------+\n",
      "|        619| 42|     2|     0.0|            1|        1|             1|      101348.88|     1|                     0.0|0.047619047619047616| 14.738095238095237|    4256652.96|          3|         employed|   low_balance|              0|           1|            1|                  0|\n",
      "|        608| 41|     1|83807.86|            1|        0|             1|      112542.58|     0|      0.7446769036217226|0.024390243902439025| 14.829268292682928|    4614245.78|          3|         employed|   low_balance|              2|           1|            1|                  0|\n",
      "+-----------+---+------+--------+-------------+---------+--------------+---------------+------+------------------------+--------------------+-------------------+--------------+-----------+-----------------+--------------+---------------+------------+-------------+-------------------+\n",
      "only showing top 2 rows\n",
      "\n"
     ]
    }
   ],
   "source": [
    "# Label encoding for new_age_cat_2\n",
    "indexer = StringIndexer(inputCol=\"new_age_cat_2\", outputCol=\"new_age_cat_2_label\")\n",
    "temp_sdf = indexer.fit(spark_df).transform(spark_df)\n",
    "spark_df = temp_sdf.withColumn(\"new_age_cat_2_label\", temp_sdf[\"new_age_cat_2_label\"].cast(\"integer\"))\n",
    "spark_df = spark_df.drop('new_age_cat_2')\n",
    "spark_df.show(2)"
   ]
  },
  {
   "cell_type": "code",
   "execution_count": 89,
   "metadata": {},
   "outputs": [
    {
     "name": "stdout",
     "output_type": "stream",
     "text": [
      "+-----------+---+------+--------+-------------+---------+--------------+---------------+------+------------------------+--------------------+-------------------+--------------+-----------+--------------+---------------+------------+-------------+-------------------+-----------------------+\n",
      "|creditscore|age|tenure| balance|numofproducts|hascrcard|isactivemember|estimatedsalary|exited|new_balance_salary_ratio|   new_tenure_by_age|new_creditscore_age|new_age_salary|new_age_cat|balance_status|geography_label|gender_label|segment_label|new_age_cat_2_label|employment_status_label|\n",
      "+-----------+---+------+--------+-------------+---------+--------------+---------------+------+------------------------+--------------------+-------------------+--------------+-----------+--------------+---------------+------------+-------------+-------------------+-----------------------+\n",
      "|        619| 42|     2|     0.0|            1|        1|             1|      101348.88|     1|                     0.0|0.047619047619047616| 14.738095238095237|    4256652.96|          3|   low_balance|              0|           1|            1|                  0|                      0|\n",
      "|        608| 41|     1|83807.86|            1|        0|             1|      112542.58|     0|      0.7446769036217226|0.024390243902439025| 14.829268292682928|    4614245.78|          3|   low_balance|              2|           1|            1|                  0|                      0|\n",
      "+-----------+---+------+--------+-------------+---------+--------------+---------------+------+------------------------+--------------------+-------------------+--------------+-----------+--------------+---------------+------------+-------------+-------------------+-----------------------+\n",
      "only showing top 2 rows\n",
      "\n"
     ]
    }
   ],
   "source": [
    "# Label encoding for employment_status\n",
    "indexer = StringIndexer(inputCol=\"employment_status\", outputCol=\"employment_status_label\")\n",
    "temp_sdf = indexer.fit(spark_df).transform(spark_df)\n",
    "spark_df = temp_sdf.withColumn(\"employment_status_label\", temp_sdf[\"employment_status_label\"].cast(\"integer\"))\n",
    "spark_df = spark_df.drop('employment_status')\n",
    "spark_df.show(2)"
   ]
  },
  {
   "cell_type": "code",
   "execution_count": 90,
   "metadata": {},
   "outputs": [
    {
     "name": "stdout",
     "output_type": "stream",
     "text": [
      "+-----------+---+------+--------+-------------+---------+--------------+---------------+------+------------------------+--------------------+-------------------+--------------+-----------+---------------+------------+-------------+-------------------+-----------------------+--------------------+\n",
      "|creditscore|age|tenure| balance|numofproducts|hascrcard|isactivemember|estimatedsalary|exited|new_balance_salary_ratio|   new_tenure_by_age|new_creditscore_age|new_age_salary|new_age_cat|geography_label|gender_label|segment_label|new_age_cat_2_label|employment_status_label|balance_status_label|\n",
      "+-----------+---+------+--------+-------------+---------+--------------+---------------+------+------------------------+--------------------+-------------------+--------------+-----------+---------------+------------+-------------+-------------------+-----------------------+--------------------+\n",
      "|        619| 42|     2|     0.0|            1|        1|             1|      101348.88|     1|                     0.0|0.047619047619047616| 14.738095238095237|    4256652.96|          3|              0|           1|            1|                  0|                      0|                   0|\n",
      "|        608| 41|     1|83807.86|            1|        0|             1|      112542.58|     0|      0.7446769036217226|0.024390243902439025| 14.829268292682928|    4614245.78|          3|              2|           1|            1|                  0|                      0|                   0|\n",
      "+-----------+---+------+--------+-------------+---------+--------------+---------------+------+------------------------+--------------------+-------------------+--------------+-----------+---------------+------------+-------------+-------------------+-----------------------+--------------------+\n",
      "only showing top 2 rows\n",
      "\n"
     ]
    }
   ],
   "source": [
    "# Label encoding for employment_status\n",
    "indexer = StringIndexer(inputCol=\"balance_status\", outputCol=\"balance_status_label\")\n",
    "temp_sdf = indexer.fit(spark_df).transform(spark_df)\n",
    "spark_df = temp_sdf.withColumn(\"balance_status_label\", temp_sdf[\"balance_status_label\"].cast(\"integer\"))\n",
    "spark_df = spark_df.drop('balance_status')\n",
    "spark_df.show(2)"
   ]
  },
  {
   "cell_type": "code",
   "execution_count": 93,
   "metadata": {
    "scrolled": true
   },
   "outputs": [
    {
     "data": {
      "text/html": [
       "<div>\n",
       "<style scoped>\n",
       "    .dataframe tbody tr th:only-of-type {\n",
       "        vertical-align: middle;\n",
       "    }\n",
       "\n",
       "    .dataframe tbody tr th {\n",
       "        vertical-align: top;\n",
       "    }\n",
       "\n",
       "    .dataframe thead th {\n",
       "        text-align: right;\n",
       "    }\n",
       "</style>\n",
       "<table border=\"1\" class=\"dataframe\">\n",
       "  <thead>\n",
       "    <tr style=\"text-align: right;\">\n",
       "      <th></th>\n",
       "      <th>0</th>\n",
       "      <th>1</th>\n",
       "      <th>2</th>\n",
       "      <th>3</th>\n",
       "      <th>4</th>\n",
       "    </tr>\n",
       "  </thead>\n",
       "  <tbody>\n",
       "    <tr>\n",
       "      <th>summary</th>\n",
       "      <td>count</td>\n",
       "      <td>mean</td>\n",
       "      <td>stddev</td>\n",
       "      <td>min</td>\n",
       "      <td>max</td>\n",
       "    </tr>\n",
       "    <tr>\n",
       "      <th>creditscore</th>\n",
       "      <td>10000</td>\n",
       "      <td>650.5288</td>\n",
       "      <td>96.65329873613035</td>\n",
       "      <td>350</td>\n",
       "      <td>850</td>\n",
       "    </tr>\n",
       "    <tr>\n",
       "      <th>age</th>\n",
       "      <td>10000</td>\n",
       "      <td>38.9218</td>\n",
       "      <td>10.487806451704587</td>\n",
       "      <td>18</td>\n",
       "      <td>92</td>\n",
       "    </tr>\n",
       "    <tr>\n",
       "      <th>tenure</th>\n",
       "      <td>10000</td>\n",
       "      <td>5.0128</td>\n",
       "      <td>2.8921743770496837</td>\n",
       "      <td>0</td>\n",
       "      <td>10</td>\n",
       "    </tr>\n",
       "    <tr>\n",
       "      <th>balance</th>\n",
       "      <td>10000</td>\n",
       "      <td>76485.88928799961</td>\n",
       "      <td>62397.40520238599</td>\n",
       "      <td>0.0</td>\n",
       "      <td>250898.09</td>\n",
       "    </tr>\n",
       "    <tr>\n",
       "      <th>numofproducts</th>\n",
       "      <td>10000</td>\n",
       "      <td>1.5302</td>\n",
       "      <td>0.5816543579989917</td>\n",
       "      <td>1</td>\n",
       "      <td>4</td>\n",
       "    </tr>\n",
       "    <tr>\n",
       "      <th>hascrcard</th>\n",
       "      <td>10000</td>\n",
       "      <td>0.7055</td>\n",
       "      <td>0.45584046447513327</td>\n",
       "      <td>0</td>\n",
       "      <td>1</td>\n",
       "    </tr>\n",
       "    <tr>\n",
       "      <th>isactivemember</th>\n",
       "      <td>10000</td>\n",
       "      <td>0.5151</td>\n",
       "      <td>0.49979692845891815</td>\n",
       "      <td>0</td>\n",
       "      <td>1</td>\n",
       "    </tr>\n",
       "    <tr>\n",
       "      <th>estimatedsalary</th>\n",
       "      <td>10000</td>\n",
       "      <td>100090.2398809998</td>\n",
       "      <td>57510.49281769821</td>\n",
       "      <td>11.58</td>\n",
       "      <td>199992.48</td>\n",
       "    </tr>\n",
       "    <tr>\n",
       "      <th>exited</th>\n",
       "      <td>10000</td>\n",
       "      <td>0.2037</td>\n",
       "      <td>0.40276858399486065</td>\n",
       "      <td>0</td>\n",
       "      <td>1</td>\n",
       "    </tr>\n",
       "    <tr>\n",
       "      <th>new_balance_salary_ratio</th>\n",
       "      <td>10000</td>\n",
       "      <td>3.8787029314937915</td>\n",
       "      <td>108.33725966505189</td>\n",
       "      <td>0.0</td>\n",
       "      <td>10614.655440414508</td>\n",
       "    </tr>\n",
       "    <tr>\n",
       "      <th>new_tenure_by_age</th>\n",
       "      <td>10000</td>\n",
       "      <td>0.13793635109800922</td>\n",
       "      <td>0.08950569744794541</td>\n",
       "      <td>0.0</td>\n",
       "      <td>0.5555555555555556</td>\n",
       "    </tr>\n",
       "    <tr>\n",
       "      <th>new_creditscore_age</th>\n",
       "      <td>10000</td>\n",
       "      <td>17.87433982537778</td>\n",
       "      <td>5.376363032048548</td>\n",
       "      <td>4.857142857142857</td>\n",
       "      <td>46.888888888888886</td>\n",
       "    </tr>\n",
       "    <tr>\n",
       "      <th>new_age_salary</th>\n",
       "      <td>10000</td>\n",
       "      <td>3891349.360012015</td>\n",
       "      <td>2530421.803261502</td>\n",
       "      <td>521.1</td>\n",
       "      <td>1.799188708E7</td>\n",
       "    </tr>\n",
       "    <tr>\n",
       "      <th>new_age_cat</th>\n",
       "      <td>10000</td>\n",
       "      <td>2.4994</td>\n",
       "      <td>1.0766222882493022</td>\n",
       "      <td>1</td>\n",
       "      <td>5</td>\n",
       "    </tr>\n",
       "    <tr>\n",
       "      <th>geography_label</th>\n",
       "      <td>10000</td>\n",
       "      <td>0.7463</td>\n",
       "      <td>0.8275293290748353</td>\n",
       "      <td>0</td>\n",
       "      <td>2</td>\n",
       "    </tr>\n",
       "    <tr>\n",
       "      <th>gender_label</th>\n",
       "      <td>10000</td>\n",
       "      <td>0.4543</td>\n",
       "      <td>0.49793202711852536</td>\n",
       "      <td>0</td>\n",
       "      <td>1</td>\n",
       "    </tr>\n",
       "    <tr>\n",
       "      <th>segment_label</th>\n",
       "      <td>10000</td>\n",
       "      <td>0.4494</td>\n",
       "      <td>0.49745792428972607</td>\n",
       "      <td>0</td>\n",
       "      <td>1</td>\n",
       "    </tr>\n",
       "    <tr>\n",
       "      <th>new_age_cat_2_label</th>\n",
       "      <td>10000</td>\n",
       "      <td>0.2393</td>\n",
       "      <td>0.4883230036928371</td>\n",
       "      <td>0</td>\n",
       "      <td>2</td>\n",
       "    </tr>\n",
       "    <tr>\n",
       "      <th>employment_status_label</th>\n",
       "      <td>10000</td>\n",
       "      <td>0.0059</td>\n",
       "      <td>0.07658835797729156</td>\n",
       "      <td>0</td>\n",
       "      <td>1</td>\n",
       "    </tr>\n",
       "    <tr>\n",
       "      <th>balance_status_label</th>\n",
       "      <td>10000</td>\n",
       "      <td>0.4799</td>\n",
       "      <td>0.4996208083088709</td>\n",
       "      <td>0</td>\n",
       "      <td>1</td>\n",
       "    </tr>\n",
       "  </tbody>\n",
       "</table>\n",
       "</div>"
      ],
      "text/plain": [
       "                              0                    1                    2  \\\n",
       "summary                   count                 mean               stddev   \n",
       "creditscore               10000             650.5288    96.65329873613035   \n",
       "age                       10000              38.9218   10.487806451704587   \n",
       "tenure                    10000               5.0128   2.8921743770496837   \n",
       "balance                   10000    76485.88928799961    62397.40520238599   \n",
       "numofproducts             10000               1.5302   0.5816543579989917   \n",
       "hascrcard                 10000               0.7055  0.45584046447513327   \n",
       "isactivemember            10000               0.5151  0.49979692845891815   \n",
       "estimatedsalary           10000    100090.2398809998    57510.49281769821   \n",
       "exited                    10000               0.2037  0.40276858399486065   \n",
       "new_balance_salary_ratio  10000   3.8787029314937915   108.33725966505189   \n",
       "new_tenure_by_age         10000  0.13793635109800922  0.08950569744794541   \n",
       "new_creditscore_age       10000    17.87433982537778    5.376363032048548   \n",
       "new_age_salary            10000    3891349.360012015    2530421.803261502   \n",
       "new_age_cat               10000               2.4994   1.0766222882493022   \n",
       "geography_label           10000               0.7463   0.8275293290748353   \n",
       "gender_label              10000               0.4543  0.49793202711852536   \n",
       "segment_label             10000               0.4494  0.49745792428972607   \n",
       "new_age_cat_2_label       10000               0.2393   0.4883230036928371   \n",
       "employment_status_label   10000               0.0059  0.07658835797729156   \n",
       "balance_status_label      10000               0.4799   0.4996208083088709   \n",
       "\n",
       "                                          3                   4  \n",
       "summary                                 min                 max  \n",
       "creditscore                             350                 850  \n",
       "age                                      18                  92  \n",
       "tenure                                    0                  10  \n",
       "balance                                 0.0           250898.09  \n",
       "numofproducts                             1                   4  \n",
       "hascrcard                                 0                   1  \n",
       "isactivemember                            0                   1  \n",
       "estimatedsalary                       11.58           199992.48  \n",
       "exited                                    0                   1  \n",
       "new_balance_salary_ratio                0.0  10614.655440414508  \n",
       "new_tenure_by_age                       0.0  0.5555555555555556  \n",
       "new_creditscore_age       4.857142857142857  46.888888888888886  \n",
       "new_age_salary                        521.1       1.799188708E7  \n",
       "new_age_cat                               1                   5  \n",
       "geography_label                           0                   2  \n",
       "gender_label                              0                   1  \n",
       "segment_label                             0                   1  \n",
       "new_age_cat_2_label                       0                   2  \n",
       "employment_status_label                   0                   1  \n",
       "balance_status_label                      0                   1  "
      ]
     },
     "execution_count": 93,
     "metadata": {},
     "output_type": "execute_result"
    }
   ],
   "source": [
    "spark_df.describe().toPandas().transpose()"
   ]
  },
  {
   "cell_type": "markdown",
   "metadata": {},
   "source": [
    "<a id = \"5\"></a><br>\n",
    "#### 3.2. One Hot Encoding"
   ]
  },
  {
   "cell_type": "code",
   "execution_count": 95,
   "metadata": {},
   "outputs": [],
   "source": [
    "# Implement one hot encoding to all categorical variables\n",
    "encoder = OneHotEncoder(inputCols=[\"geography_label\", \"gender_label\", \"segment_label\", \n",
    "                                   \"new_age_cat_2_label\", \"employment_status_label\", \"balance_status_label\"], \n",
    "                        outputCols=[\"geography_ohe\", \"gender_ohe\", \"segment_ohe\", \n",
    "                                    \"new_age_cat_2_ohe\", \"employment_status_ohe\", \"balance_status_ohe\"])\n",
    "spark_df = encoder.fit(spark_df).transform(spark_df)"
   ]
  },
  {
   "cell_type": "code",
   "execution_count": 96,
   "metadata": {},
   "outputs": [
    {
     "name": "stdout",
     "output_type": "stream",
     "text": [
      "+-----------+---+------+--------+-------------+---------+--------------+---------------+------+------------------------+--------------------+-------------------+--------------+-----------+---------------+------------+-------------+-------------------+-----------------------+--------------------+-------------+----------+-----------+-----------------+---------------------+------------------+\n",
      "|creditscore|age|tenure| balance|numofproducts|hascrcard|isactivemember|estimatedsalary|exited|new_balance_salary_ratio|   new_tenure_by_age|new_creditscore_age|new_age_salary|new_age_cat|geography_label|gender_label|segment_label|new_age_cat_2_label|employment_status_label|balance_status_label|geography_ohe|gender_ohe|segment_ohe|new_age_cat_2_ohe|employment_status_ohe|balance_status_ohe|\n",
      "+-----------+---+------+--------+-------------+---------+--------------+---------------+------+------------------------+--------------------+-------------------+--------------+-----------+---------------+------------+-------------+-------------------+-----------------------+--------------------+-------------+----------+-----------+-----------------+---------------------+------------------+\n",
      "|        619| 42|     2|     0.0|            1|        1|             1|      101348.88|     1|                     0.0|0.047619047619047616| 14.738095238095237|    4256652.96|          3|              0|           1|            1|                  0|                      0|                   0|(2,[0],[1.0])| (1,[],[])|  (1,[],[])|    (2,[0],[1.0])|        (1,[0],[1.0])|     (1,[0],[1.0])|\n",
      "|        608| 41|     1|83807.86|            1|        0|             1|      112542.58|     0|      0.7446769036217226|0.024390243902439025| 14.829268292682928|    4614245.78|          3|              2|           1|            1|                  0|                      0|                   0|    (2,[],[])| (1,[],[])|  (1,[],[])|    (2,[0],[1.0])|        (1,[0],[1.0])|     (1,[0],[1.0])|\n",
      "+-----------+---+------+--------+-------------+---------+--------------+---------------+------+------------------------+--------------------+-------------------+--------------+-----------+---------------+------------+-------------+-------------------+-----------------------+--------------------+-------------+----------+-----------+-----------------+---------------------+------------------+\n",
      "only showing top 2 rows\n",
      "\n"
     ]
    }
   ],
   "source": [
    "spark_df.show(2)"
   ]
  },
  {
   "cell_type": "markdown",
   "metadata": {},
   "source": [
    "<a id = \"6\"></a><br>\n",
    "#### 3.3. Define variables"
   ]
  },
  {
   "cell_type": "code",
   "execution_count": 97,
   "metadata": {},
   "outputs": [
    {
     "name": "stdout",
     "output_type": "stream",
     "text": [
      "+-----------+---+------+--------+-------------+---------+--------------+---------------+------+------------------------+--------------------+-------------------+--------------+-----------+---------------+------------+-------------+-------------------+-----------------------+--------------------+-------------+----------+-----------+-----------------+---------------------+------------------+-----+\n",
      "|creditscore|age|tenure| balance|numofproducts|hascrcard|isactivemember|estimatedsalary|exited|new_balance_salary_ratio|   new_tenure_by_age|new_creditscore_age|new_age_salary|new_age_cat|geography_label|gender_label|segment_label|new_age_cat_2_label|employment_status_label|balance_status_label|geography_ohe|gender_ohe|segment_ohe|new_age_cat_2_ohe|employment_status_ohe|balance_status_ohe|label|\n",
      "+-----------+---+------+--------+-------------+---------+--------------+---------------+------+------------------------+--------------------+-------------------+--------------+-----------+---------------+------------+-------------+-------------------+-----------------------+--------------------+-------------+----------+-----------+-----------------+---------------------+------------------+-----+\n",
      "|        619| 42|     2|     0.0|            1|        1|             1|      101348.88|     1|                     0.0|0.047619047619047616| 14.738095238095237|    4256652.96|          3|              0|           1|            1|                  0|                      0|                   0|(2,[0],[1.0])| (1,[],[])|  (1,[],[])|    (2,[0],[1.0])|        (1,[0],[1.0])|     (1,[0],[1.0])|    1|\n",
      "|        608| 41|     1|83807.86|            1|        0|             1|      112542.58|     0|      0.7446769036217226|0.024390243902439025| 14.829268292682928|    4614245.78|          3|              2|           1|            1|                  0|                      0|                   0|    (2,[],[])| (1,[],[])|  (1,[],[])|    (2,[0],[1.0])|        (1,[0],[1.0])|     (1,[0],[1.0])|    0|\n",
      "+-----------+---+------+--------+-------------+---------+--------------+---------------+------+------------------------+--------------------+-------------------+--------------+-----------+---------------+------------+-------------+-------------------+-----------------------+--------------------+-------------+----------+-----------+-----------------+---------------------+------------------+-----+\n",
      "only showing top 2 rows\n",
      "\n"
     ]
    }
   ],
   "source": [
    "# We need to define target variable as \"label\"\n",
    "stringIndexer = StringIndexer(inputCol='exited', outputCol='label')\n",
    "temp_sdf = stringIndexer.fit(spark_df).transform(spark_df)\n",
    "spark_df = temp_sdf.withColumn(\"label\", temp_sdf[\"label\"].cast(\"integer\"))\n",
    "spark_df.show(2)"
   ]
  },
  {
   "cell_type": "code",
   "execution_count": 98,
   "metadata": {},
   "outputs": [],
   "source": [
    "# We need to define features\n",
    "cols = ['creditscore', 'age', 'tenure', 'balance','numofproducts', 'hascrcard',\n",
    "        'isactivemember', 'estimatedsalary', 'new_balance_salary_ratio', 'new_tenure_by_age',\n",
    "        'new_creditscore_age', 'new_age_salary', 'new_age_cat',\n",
    "        'geography_label', 'gender_label', 'segment_label', 'new_age_cat_2_label', 'employment_status_label',\n",
    "        'balance_status_label', 'geography_ohe', 'gender_ohe', 'segment_ohe', 'new_age_cat_2_ohe',\n",
    "        'employment_status_ohe', 'balance_status_ohe']"
   ]
  },
  {
   "cell_type": "code",
   "execution_count": 99,
   "metadata": {},
   "outputs": [
    {
     "name": "stdout",
     "output_type": "stream",
     "text": [
      "+-----------+---+------+--------+-------------+---------+--------------+---------------+------+------------------------+--------------------+-------------------+--------------+-----------+---------------+------------+-------------+-------------------+-----------------------+--------------------+-------------+----------+-----------+-----------------+---------------------+------------------+-----+--------------------+\n",
      "|creditscore|age|tenure| balance|numofproducts|hascrcard|isactivemember|estimatedsalary|exited|new_balance_salary_ratio|   new_tenure_by_age|new_creditscore_age|new_age_salary|new_age_cat|geography_label|gender_label|segment_label|new_age_cat_2_label|employment_status_label|balance_status_label|geography_ohe|gender_ohe|segment_ohe|new_age_cat_2_ohe|employment_status_ohe|balance_status_ohe|label|            features|\n",
      "+-----------+---+------+--------+-------------+---------+--------------+---------------+------+------------------------+--------------------+-------------------+--------------+-----------+---------------+------------+-------------+-------------------+-----------------------+--------------------+-------------+----------+-----------+-----------------+---------------------+------------------+-----+--------------------+\n",
      "|        619| 42|     2|     0.0|            1|        1|             1|      101348.88|     1|                     0.0|0.047619047619047616| 14.738095238095237|    4256652.96|          3|              0|           1|            1|                  0|                      0|                   0|(2,[0],[1.0])| (1,[],[])|  (1,[],[])|    (2,[0],[1.0])|        (1,[0],[1.0])|     (1,[0],[1.0])|    1|[619.0,42.0,2.0,0...|\n",
      "|        608| 41|     1|83807.86|            1|        0|             1|      112542.58|     0|      0.7446769036217226|0.024390243902439025| 14.829268292682928|    4614245.78|          3|              2|           1|            1|                  0|                      0|                   0|    (2,[],[])| (1,[],[])|  (1,[],[])|    (2,[0],[1.0])|        (1,[0],[1.0])|     (1,[0],[1.0])|    0|[608.0,41.0,1.0,8...|\n",
      "+-----------+---+------+--------+-------------+---------+--------------+---------------+------+------------------------+--------------------+-------------------+--------------+-----------+---------------+------------+-------------+-------------------+-----------------------+--------------------+-------------+----------+-----------+-----------------+---------------------+------------------+-----+--------------------+\n",
      "only showing top 2 rows\n",
      "\n"
     ]
    }
   ],
   "source": [
    "# Vectorize independent variables\n",
    "va = VectorAssembler(inputCols=cols, outputCol=\"features\")\n",
    "va_df = va.transform(spark_df)\n",
    "va_df.show(2)"
   ]
  },
  {
   "cell_type": "code",
   "execution_count": 101,
   "metadata": {},
   "outputs": [
    {
     "name": "stdout",
     "output_type": "stream",
     "text": [
      "+--------------------+-----+\n",
      "|            features|label|\n",
      "+--------------------+-----+\n",
      "|[619.0,42.0,2.0,0...|    1|\n",
      "|[608.0,41.0,1.0,8...|    0|\n",
      "|[502.0,42.0,8.0,1...|    1|\n",
      "|(27,[0,1,2,4,7,9,...|    0|\n",
      "+--------------------+-----+\n",
      "only showing top 4 rows\n",
      "\n"
     ]
    }
   ],
   "source": [
    "# Final sdf\n",
    "final_df = va_df.select(\"features\", \"label\")\n",
    "final_df.show(4)"
   ]
  },
  {
   "cell_type": "markdown",
   "metadata": {},
   "source": [
    "<a id = \"7\"></a><br>\n",
    "#### 3.4. Standard Scaler"
   ]
  },
  {
   "cell_type": "code",
   "execution_count": 102,
   "metadata": {},
   "outputs": [
    {
     "name": "stdout",
     "output_type": "stream",
     "text": [
      "+--------------------+-----+--------------------+\n",
      "|            features|label|     scaled_features|\n",
      "+--------------------+-----+--------------------+\n",
      "|[619.0,42.0,2.0,0...|    1|[6.40433392438999...|\n",
      "|[608.0,41.0,1.0,8...|    0|[6.29052508243798...|\n",
      "|[502.0,42.0,8.0,1...|    1|[5.19382169635505...|\n",
      "|(27,[0,1,2,4,7,9,...|    0|(27,[0,1,2,4,7,9,...|\n",
      "+--------------------+-----+--------------------+\n",
      "only showing top 4 rows\n",
      "\n"
     ]
    }
   ],
   "source": [
    "# StandardScaler\n",
    "scaler = StandardScaler(inputCol=\"features\", outputCol=\"scaled_features\")\n",
    "final_df = scaler.fit(final_df).transform(final_df)\n",
    "final_df.show(4)"
   ]
  },
  {
   "cell_type": "markdown",
   "metadata": {},
   "source": [
    "<a id = \"8\"></a><br>\n",
    "#### 3.5. Train-Test Split"
   ]
  },
  {
   "cell_type": "code",
   "execution_count": 103,
   "metadata": {},
   "outputs": [
    {
     "name": "stdout",
     "output_type": "stream",
     "text": [
      "+--------------------+-----+--------------------+\n",
      "|            features|label|     scaled_features|\n",
      "+--------------------+-----+--------------------+\n",
      "|(27,[0,1,2,4,5,7,...|    0|(27,[0,1,2,4,5,7,...|\n",
      "|(27,[0,1,2,4,5,7,...|    0|(27,[0,1,2,4,5,7,...|\n",
      "|(27,[0,1,2,4,5,7,...|    0|(27,[0,1,2,4,5,7,...|\n",
      "|(27,[0,1,2,4,5,7,...|    1|(27,[0,1,2,4,5,7,...|\n",
      "|(27,[0,1,2,4,5,7,...|    0|(27,[0,1,2,4,5,7,...|\n",
      "+--------------------+-----+--------------------+\n",
      "only showing top 5 rows\n",
      "\n"
     ]
    }
   ],
   "source": [
    "# Split the dataset into test and train sets.\n",
    "train_df, test_df = final_df.randomSplit([0.7, 0.3], seed=17)\n",
    "train_df.show(5)"
   ]
  },
  {
   "cell_type": "code",
   "execution_count": 104,
   "metadata": {},
   "outputs": [
    {
     "name": "stdout",
     "output_type": "stream",
     "text": [
      "+--------------------+-----+--------------------+\n",
      "|            features|label|     scaled_features|\n",
      "+--------------------+-----+--------------------+\n",
      "|(27,[0,1,2,4,5,7,...|    1|(27,[0,1,2,4,5,7,...|\n",
      "|(27,[0,1,2,4,5,7,...|    0|(27,[0,1,2,4,5,7,...|\n",
      "|(27,[0,1,2,4,5,7,...|    0|(27,[0,1,2,4,5,7,...|\n",
      "|(27,[0,1,2,4,5,7,...|    0|(27,[0,1,2,4,5,7,...|\n",
      "|(27,[0,1,2,4,5,7,...|    0|(27,[0,1,2,4,5,7,...|\n",
      "+--------------------+-----+--------------------+\n",
      "only showing top 5 rows\n",
      "\n"
     ]
    }
   ],
   "source": [
    "test_df.show(5)"
   ]
  },
  {
   "cell_type": "code",
   "execution_count": 106,
   "metadata": {},
   "outputs": [
    {
     "name": "stdout",
     "output_type": "stream",
     "text": [
      "Training Dataset Count: 6949\n",
      "Test Dataset Count: 3051\n"
     ]
    }
   ],
   "source": [
    "print(\"Training Dataset Count: \" + str(train_df.count()))\n",
    "print(\"Test Dataset Count: \" + str(test_df.count()))"
   ]
  },
  {
   "cell_type": "markdown",
   "metadata": {},
   "source": [
    "<a id = \"9\"></a><br>\n",
    "#### 4. MODELING"
   ]
  },
  {
   "cell_type": "markdown",
   "metadata": {},
   "source": [
    "<a id = \"10\"></a><br>\n",
    "#### 4.1. Gradient Boosted Tree Classifier"
   ]
  },
  {
   "cell_type": "code",
   "execution_count": 107,
   "metadata": {},
   "outputs": [
    {
     "name": "stdout",
     "output_type": "stream",
     "text": [
      "+--------------------+-----+--------------------+--------------------+--------------------+----------+\n",
      "|            features|label|     scaled_features|       rawPrediction|         probability|prediction|\n",
      "+--------------------+-----+--------------------+--------------------+--------------------+----------+\n",
      "|(27,[0,1,2,4,5,7,...|    1|(27,[0,1,2,4,5,7,...|[-0.5811049889641...|[0.23826595259754...|       1.0|\n",
      "|(27,[0,1,2,4,5,7,...|    0|(27,[0,1,2,4,5,7,...|[1.50801762489525...|[0.95329331121448...|       0.0|\n",
      "|(27,[0,1,2,4,5,7,...|    0|(27,[0,1,2,4,5,7,...|[1.61208325805517...|[0.96173364612858...|       0.0|\n",
      "|(27,[0,1,2,4,5,7,...|    0|(27,[0,1,2,4,5,7,...|[1.76966850700981...|[0.97178654032256...|       0.0|\n",
      "|(27,[0,1,2,4,5,7,...|    0|(27,[0,1,2,4,5,7,...|[1.46147979781727...|[0.94896981137209...|       0.0|\n",
      "+--------------------+-----+--------------------+--------------------+--------------------+----------+\n",
      "only showing top 5 rows\n",
      "\n"
     ]
    }
   ],
   "source": [
    "gbm = GBTClassifier(maxIter=100, featuresCol=\"scaled_features\", labelCol=\"label\")\n",
    "gbm_model = gbm.fit(train_df)\n",
    "y_pred = gbm_model.transform(test_df)\n",
    "y_pred.show(5)"
   ]
  },
  {
   "cell_type": "code",
   "execution_count": 108,
   "metadata": {},
   "outputs": [
    {
     "data": {
      "text/plain": [
       "0.8502130449033104"
      ]
     },
     "execution_count": 108,
     "metadata": {},
     "output_type": "execute_result"
    }
   ],
   "source": [
    "# Accuracy \n",
    "y_pred.filter(y_pred.label == y_pred.prediction).count() / y_pred.count()"
   ]
  },
  {
   "cell_type": "markdown",
   "metadata": {},
   "source": [
    "<a id = \"11\"></a><br>\n",
    "#### 4.2. Model Tuning"
   ]
  },
  {
   "cell_type": "code",
   "execution_count": 110,
   "metadata": {},
   "outputs": [],
   "source": [
    "evaluator = BinaryClassificationEvaluator()\n",
    "\n",
    "gbm_params = (ParamGridBuilder()\n",
    "              .addGrid(gbm.maxDepth, [2, 4, 6])\n",
    "              .addGrid(gbm.maxBins, [20, 30])\n",
    "              .addGrid(gbm.maxIter, [10, 20])\n",
    "              .build())"
   ]
  },
  {
   "cell_type": "code",
   "execution_count": 111,
   "metadata": {},
   "outputs": [],
   "source": [
    "cv = CrossValidator(estimator=gbm,\n",
    "                    estimatorParamMaps=gbm_params,\n",
    "                    evaluator=evaluator,\n",
    "                    numFolds=5)"
   ]
  },
  {
   "cell_type": "code",
   "execution_count": 112,
   "metadata": {},
   "outputs": [
    {
     "data": {
      "text/plain": [
       "0.850868567682727"
      ]
     },
     "execution_count": 112,
     "metadata": {},
     "output_type": "execute_result"
    }
   ],
   "source": [
    "cv_model = cv.fit(train_df)\n",
    "y_pred = cv_model.transform(test_df)\n",
    "ac = y_pred.select(\"label\", \"prediction\")\n",
    "ac.filter(ac.label == ac.prediction).count() / ac.count()"
   ]
  },
  {
   "cell_type": "markdown",
   "metadata": {},
   "source": [
    "<a id = \"12\"></a><br>\n",
    "#### **5. REFERENCES**\n",
    "\n",
    "* Data Science and Machine Learning Bootcamp, 2021, Veri Bilimi Okulu, https://www.veribilimiokulu.com/\n",
    "* https://www.kaggle.com/kemalgunay/pyspark-ml-churn-analysis\n",
    "* https://www.kaggle.com/kmalit/bank-customer-churn-prediction"
   ]
  }
 ],
 "metadata": {
  "kernelspec": {
   "display_name": "Python 3",
   "language": "python",
   "name": "python3"
  },
  "language_info": {
   "codemirror_mode": {
    "name": "ipython",
    "version": 3
   },
   "file_extension": ".py",
   "mimetype": "text/x-python",
   "name": "python",
   "nbconvert_exporter": "python",
   "pygments_lexer": "ipython3",
   "version": "3.7.5"
  }
 },
 "nbformat": 4,
 "nbformat_minor": 2
}
